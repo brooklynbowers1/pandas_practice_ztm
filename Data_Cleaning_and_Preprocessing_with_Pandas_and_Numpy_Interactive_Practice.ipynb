{
  "cells": [
    {
      "cell_type": "markdown",
      "metadata": {
        "id": "view-in-github",
        "colab_type": "text"
      },
      "source": [
        "<a href=\"https://colab.research.google.com/github/brooklynbowers1/pandas_practice_ztm/blob/main/Data_Cleaning_and_Preprocessing_with_Pandas_and_Numpy_Interactive_Practice.ipynb\" target=\"_parent\"><img src=\"https://colab.research.google.com/assets/colab-badge.svg\" alt=\"Open In Colab\"/></a>"
      ]
    },
    {
      "cell_type": "markdown",
      "metadata": {
        "id": "fw96GadUBBjl"
      },
      "source": [
        "<img style=\"display: block; margin: 0 auto\" src=\"https://images.squarespace-cdn.com/content/v1/645a878d9740963714b8f343/3efb24e3-9fb9-4bc7-b41e-7f36742ae747/2-2.jpg?format=1500w\" alt=\"Lonely Octopus Logo\">"
      ]
    },
    {
      "cell_type": "markdown",
      "metadata": {
        "id": "qsnu23XfCbsq"
      },
      "source": [
        "**Please create a copy of the notebook in your gdrive to be able to edit it.**\n",
        "\n",
        "**You can make a copy from the menu: File > Save a copy in Drive**"
      ]
    },
    {
      "cell_type": "markdown",
      "metadata": {
        "id": "uMVxtQ5GMUHA"
      },
      "source": [
        "# **Data Cleaning and Preprocessing - Interactive Practice**"
      ]
    },
    {
      "cell_type": "markdown",
      "source": [
        "# **Pandas - Basics**"
      ],
      "metadata": {
        "id": "KglcJtdKSLCg"
      }
    },
    {
      "cell_type": "markdown",
      "metadata": {
        "id": "RWjpm02pMa4v"
      },
      "source": [
        "## <ins>Introduction to the pandas Library<ins>\n",
        "* The pandas DataFrame is a versatile two-dimensional data structure for organizing and manipulating tabular data.\n",
        "*It serves as a powerful tool for data scientists and analysts, facilitating tasks such as data cleaning, preprocessing, manipulation, and analysis.\n",
        "*DataFrames are created easily from various data sources, such as lists, dictionaries, NumPy arrays, and CSV files.\n",
        "*Understanding DataFrame operations is crucial for efficient data analysis and exploration, with comprehensive guidance available in the official pandas documentation.\n",
        "\n",
        "\n",
        "\n"
      ]
    },
    {
      "cell_type": "markdown",
      "source": [
        "### <ins>Importance<ins>\n",
        "* DataFrames play a vital role in data science by offering functionalities for organizing, cleaning, and analyzing data efficiently.\n",
        "*They provide a structured format for handling heterogeneous data, enabling data-driven decision-making across various domains.\n",
        "*By leveraging DataFrames, analysts can extract meaningful insights, identify patterns, and make informed decisions based on accurate and organized data."
      ],
      "metadata": {
        "id": "q-78hCUnSFyE"
      }
    },
    {
      "cell_type": "markdown",
      "source": [
        "### <ins> How to find your pandas version <ins>\n",
        "* Example below:\n",
        "\n"
      ],
      "metadata": {
        "id": "_lYzGjyiyn8U"
      }
    },
    {
      "cell_type": "code",
      "source": [
        "import pandas as pd\n",
        "print(pd.__version__)"
      ],
      "metadata": {
        "colab": {
          "base_uri": "https://localhost:8080/"
        },
        "id": "T-NJOFhoygOa",
        "outputId": "27769fbc-166c-4fd8-9ae6-0d0d8c6337bd"
      },
      "execution_count": null,
      "outputs": [
        {
          "output_type": "stream",
          "name": "stdout",
          "text": [
            "1.5.3\n"
          ]
        }
      ]
    },
    {
      "cell_type": "markdown",
      "source": [
        "### <ins> How to install pandas using pip <ins>\n",
        "* Example below:"
      ],
      "metadata": {
        "id": "LNC3oY3CznP0"
      }
    },
    {
      "cell_type": "code",
      "source": [
        "# Installing pandas using pip\n",
        "!pip install pandas"
      ],
      "metadata": {
        "id": "dcV5vngOzoTI"
      },
      "execution_count": null,
      "outputs": []
    },
    {
      "cell_type": "markdown",
      "source": [
        "## <ins> Introduction to pandas Series <ins>\n",
        "Covers pandas Series, one-dimensional labeled arrays capable of holding data of any type. The pandas Series is a fundamental data structure for single-dimensional data analysis.\n"
      ],
      "metadata": {
        "id": "lz9ekFzeznSQ"
      }
    },
    {
      "cell_type": "markdown",
      "source": [
        "### <ins> How to create a pandas series <ins>\n",
        "* Example below:"
      ],
      "metadata": {
        "id": "yxyHlba2znUy"
      }
    },
    {
      "cell_type": "code",
      "source": [
        "# Creating a pandas Series\n",
        "series = pd.Series([1, 3, 5, 9, 6, 8])\n",
        "series"
      ],
      "metadata": {
        "colab": {
          "base_uri": "https://localhost:8080/"
        },
        "id": "iyP7-ak2zpCc",
        "outputId": "8d54f188-3336-4a6f-8a00-25a38859414f"
      },
      "execution_count": null,
      "outputs": [
        {
          "output_type": "stream",
          "name": "stdout",
          "text": [
            "0    1\n",
            "1    3\n",
            "2    5\n",
            "3    9\n",
            "4    6\n",
            "5    8\n",
            "dtype: int64\n"
          ]
        }
      ]
    },
    {
      "cell_type": "markdown",
      "source": [
        "**Practice task:** <nbsp>\n",
        "Create a new series with the following adjustments:\n",
        "> Set the `series` to a random group of 8 numbers <br>\n",
        "> print `series` to observe changes <br>\n",
        "\n",
        "Compare and comment on the differences between the example and new output\n",
        "    \n",
        "Show the new code and include the comments below"
      ],
      "metadata": {
        "id": "HfiEyPtIznaV"
      }
    },
    {
      "cell_type": "code",
      "source": [
        "# Practice Task here"
      ],
      "metadata": {
        "id": "y51NCncZ2HQG"
      },
      "execution_count": null,
      "outputs": []
    },
    {
      "cell_type": "markdown",
      "source": [
        "## <ins> Working with Attributes in Python <ins>\n",
        "Explains how to access and use attributes of pandas objects to retrieve information about the data.Attributes provide quick insights into data without needing to invoke a method.\n"
      ],
      "metadata": {
        "id": "kdt5kpUAznXi"
      }
    },
    {
      "cell_type": "markdown",
      "source": [
        "### <ins> How to access the `dtype` attribute from pandas Series <ins>\n",
        "* Example below:"
      ],
      "metadata": {
        "id": "QEk7YeRVCZyR"
      }
    },
    {
      "cell_type": "code",
      "source": [
        "# Accessing the 'dtype' attribute from pandas Series\n",
        "series = pd.Series([1, 3, 5, 6, 6, 8])\n",
        "series.dtype"
      ],
      "metadata": {
        "colab": {
          "base_uri": "https://localhost:8080/"
        },
        "id": "QUP-w1jPCY49",
        "outputId": "4b309db9-67a0-4623-f1f3-7eb897e6fa09"
      },
      "execution_count": null,
      "outputs": [
        {
          "output_type": "stream",
          "name": "stdout",
          "text": [
            "int64\n"
          ]
        }
      ]
    },
    {
      "cell_type": "markdown",
      "source": [
        "**Practice task:** <nbsp>\n",
        "Create a new series with the following adjustments:\n",
        "> Set the `series` to 6 random letters <br> **Hint**: Apply quotation marks around the letter, like this \"A\" <br>\n",
        "> print `series` to observe changes <br>\n",
        "\n",
        "Compare and comment on the differences between the example and new output\n",
        "    \n",
        "Show the new code and include the comments below"
      ],
      "metadata": {
        "id": "6ayVagugzncz"
      }
    },
    {
      "cell_type": "code",
      "source": [
        "# Practice Task here"
      ],
      "metadata": {
        "id": "M-pL8gsdEVJB"
      },
      "execution_count": null,
      "outputs": []
    },
    {
      "cell_type": "markdown",
      "source": [
        "## <ins> Using an Index in pandas <ins>\n",
        "Discusses the index, the immutable array that enables data alignment and quick data retrieval. Indexing is crucial for efficient data access and manipulation in pandas.\n"
      ],
      "metadata": {
        "id": "hpXaaBJEF55j"
      }
    },
    {
      "cell_type": "markdown",
      "source": [
        "### <ins> How to set an index in a pandas Series <ins>\n",
        "* Example below:"
      ],
      "metadata": {
        "id": "fYt7DT7qF55p"
      }
    },
    {
      "cell_type": "code",
      "source": [
        "# Setting an index in pandas Series\n",
        "series = pd.Series([1, 3, 5, 7, 9], index=['a', 'b', 'c', 'd', 'e'])\n",
        "series"
      ],
      "metadata": {
        "colab": {
          "base_uri": "https://localhost:8080/"
        },
        "outputId": "825b665f-94ab-4035-d994-e690d3609b27",
        "id": "qBa4Q0YNF55p"
      },
      "execution_count": null,
      "outputs": [
        {
          "output_type": "execute_result",
          "data": {
            "text/plain": [
              "a    1\n",
              "b    3\n",
              "c    5\n",
              "d    7\n",
              "e    9\n",
              "dtype: int64"
            ]
          },
          "metadata": {},
          "execution_count": 27
        }
      ]
    },
    {
      "cell_type": "markdown",
      "source": [
        "**Practice task:** <nbsp>\n",
        "Create a new series with the following adjustments:\n",
        "> Set the `index` to 5 type of fruits <br> **Hint**: Apply quotation marks around the letter, like this 'Apples' <br>\n",
        "> print `series` to observe changes <br>\n",
        "\n",
        "Compare and comment on the differences between the example and new output\n",
        "    \n",
        "Show the new code and include the comments below"
      ],
      "metadata": {
        "id": "Hcx3ojvtF55q"
      }
    },
    {
      "cell_type": "code",
      "source": [
        "# Practice Task here"
      ],
      "metadata": {
        "id": "jqeu48vkF55q"
      },
      "execution_count": null,
      "outputs": []
    },
    {
      "cell_type": "markdown",
      "source": [
        "## <ins> Indexing Insight: Label vs Position-Based <ins>\n",
        "Comparison between using labels `.loc[]` and integer positions `.iloc[]` for indexing. Knowing when to use label-based vs. position-based indexing can help in selecting data more intuitively.\n"
      ],
      "metadata": {
        "id": "MlR1gO3FK5Ml"
      }
    },
    {
      "cell_type": "markdown",
      "source": [
        "### <ins> How to use label and position based indexing <ins>\n",
        "* Example below:"
      ],
      "metadata": {
        "id": "fwmjUZ8nK5Mr"
      }
    },
    {
      "cell_type": "code",
      "source": [
        "# Setting an index in pandas Series\n",
        "series = pd.Series([1, 3, 5, 7, 9], index=['a', 'b', 'c', 'd', 'e'])\n",
        "# Label-based indexing\n",
        "series.loc['a']\n",
        "# Position-based indexing\n",
        "series.iloc[0]"
      ],
      "metadata": {
        "colab": {
          "base_uri": "https://localhost:8080/"
        },
        "outputId": "8afc73b8-991c-4613-ecb3-f7c826cf522d",
        "id": "iPKS9EltK5Ms"
      },
      "execution_count": null,
      "outputs": [
        {
          "output_type": "execute_result",
          "data": {
            "text/plain": [
              "1"
            ]
          },
          "metadata": {},
          "execution_count": 26
        }
      ]
    },
    {
      "cell_type": "markdown",
      "source": [
        "**Practice task:** <nbsp>\n",
        "Print out your code with the following adjustments:\n",
        "> Set the label-based `index` to 'b' <br>\n",
        "> Set the position-based `index` to '2' <br>\n",
        "\n",
        "Compare and comment on the differences between the example and new output\n",
        "    \n",
        "Show the new code and include the comments below"
      ],
      "metadata": {
        "id": "h8X7OOjqK5Ms"
      }
    },
    {
      "cell_type": "code",
      "source": [
        "# Practice Task here"
      ],
      "metadata": {
        "id": "IUk2JANQK5Ms"
      },
      "execution_count": null,
      "outputs": []
    },
    {
      "cell_type": "markdown",
      "source": [
        "## <ins> Indexing Demystified: A Deep Dive <ins>\n",
        "Explores advanced techniques and functionalities related to indices. Indices provide powerful ways to manipulate and work with data structures.\n"
      ],
      "metadata": {
        "id": "NZiQo00_4am3"
      }
    },
    {
      "cell_type": "markdown",
      "source": [
        "### <ins> How to use label and position based indexing <ins>\n",
        "* Example below:"
      ],
      "metadata": {
        "id": "1_8Pydrv4am-"
      }
    },
    {
      "cell_type": "code",
      "source": [
        "# Resetting the index of a DataFrame\n",
        "df = pd.DataFrame({'A': range(4), 'B': range(4, 8)})\n",
        "df.reset_index()"
      ],
      "metadata": {
        "colab": {
          "base_uri": "https://localhost:8080/",
          "height": 175
        },
        "outputId": "57b55c09-1ff0-49c5-a236-5f911bc21376",
        "id": "vPRDg_uS4am-"
      },
      "execution_count": null,
      "outputs": [
        {
          "output_type": "execute_result",
          "data": {
            "text/plain": [
              "   index  A  B\n",
              "0      0  0  4\n",
              "1      1  1  5\n",
              "2      2  2  6\n",
              "3      3  3  7"
            ],
            "text/html": [
              "\n",
              "  <div id=\"df-61bf52fd-bbe4-4846-a7bd-0c929aeb66ec\" class=\"colab-df-container\">\n",
              "    <div>\n",
              "<style scoped>\n",
              "    .dataframe tbody tr th:only-of-type {\n",
              "        vertical-align: middle;\n",
              "    }\n",
              "\n",
              "    .dataframe tbody tr th {\n",
              "        vertical-align: top;\n",
              "    }\n",
              "\n",
              "    .dataframe thead th {\n",
              "        text-align: right;\n",
              "    }\n",
              "</style>\n",
              "<table border=\"1\" class=\"dataframe\">\n",
              "  <thead>\n",
              "    <tr style=\"text-align: right;\">\n",
              "      <th></th>\n",
              "      <th>index</th>\n",
              "      <th>A</th>\n",
              "      <th>B</th>\n",
              "    </tr>\n",
              "  </thead>\n",
              "  <tbody>\n",
              "    <tr>\n",
              "      <th>0</th>\n",
              "      <td>0</td>\n",
              "      <td>0</td>\n",
              "      <td>4</td>\n",
              "    </tr>\n",
              "    <tr>\n",
              "      <th>1</th>\n",
              "      <td>1</td>\n",
              "      <td>1</td>\n",
              "      <td>5</td>\n",
              "    </tr>\n",
              "    <tr>\n",
              "      <th>2</th>\n",
              "      <td>2</td>\n",
              "      <td>2</td>\n",
              "      <td>6</td>\n",
              "    </tr>\n",
              "    <tr>\n",
              "      <th>3</th>\n",
              "      <td>3</td>\n",
              "      <td>3</td>\n",
              "      <td>7</td>\n",
              "    </tr>\n",
              "  </tbody>\n",
              "</table>\n",
              "</div>\n",
              "    <div class=\"colab-df-buttons\">\n",
              "\n",
              "  <div class=\"colab-df-container\">\n",
              "    <button class=\"colab-df-convert\" onclick=\"convertToInteractive('df-61bf52fd-bbe4-4846-a7bd-0c929aeb66ec')\"\n",
              "            title=\"Convert this dataframe to an interactive table.\"\n",
              "            style=\"display:none;\">\n",
              "\n",
              "  <svg xmlns=\"http://www.w3.org/2000/svg\" height=\"24px\" viewBox=\"0 -960 960 960\">\n",
              "    <path d=\"M120-120v-720h720v720H120Zm60-500h600v-160H180v160Zm220 220h160v-160H400v160Zm0 220h160v-160H400v160ZM180-400h160v-160H180v160Zm440 0h160v-160H620v160ZM180-180h160v-160H180v160Zm440 0h160v-160H620v160Z\"/>\n",
              "  </svg>\n",
              "    </button>\n",
              "\n",
              "  <style>\n",
              "    .colab-df-container {\n",
              "      display:flex;\n",
              "      gap: 12px;\n",
              "    }\n",
              "\n",
              "    .colab-df-convert {\n",
              "      background-color: #E8F0FE;\n",
              "      border: none;\n",
              "      border-radius: 50%;\n",
              "      cursor: pointer;\n",
              "      display: none;\n",
              "      fill: #1967D2;\n",
              "      height: 32px;\n",
              "      padding: 0 0 0 0;\n",
              "      width: 32px;\n",
              "    }\n",
              "\n",
              "    .colab-df-convert:hover {\n",
              "      background-color: #E2EBFA;\n",
              "      box-shadow: 0px 1px 2px rgba(60, 64, 67, 0.3), 0px 1px 3px 1px rgba(60, 64, 67, 0.15);\n",
              "      fill: #174EA6;\n",
              "    }\n",
              "\n",
              "    .colab-df-buttons div {\n",
              "      margin-bottom: 4px;\n",
              "    }\n",
              "\n",
              "    [theme=dark] .colab-df-convert {\n",
              "      background-color: #3B4455;\n",
              "      fill: #D2E3FC;\n",
              "    }\n",
              "\n",
              "    [theme=dark] .colab-df-convert:hover {\n",
              "      background-color: #434B5C;\n",
              "      box-shadow: 0px 1px 3px 1px rgba(0, 0, 0, 0.15);\n",
              "      filter: drop-shadow(0px 1px 2px rgba(0, 0, 0, 0.3));\n",
              "      fill: #FFFFFF;\n",
              "    }\n",
              "  </style>\n",
              "\n",
              "    <script>\n",
              "      const buttonEl =\n",
              "        document.querySelector('#df-61bf52fd-bbe4-4846-a7bd-0c929aeb66ec button.colab-df-convert');\n",
              "      buttonEl.style.display =\n",
              "        google.colab.kernel.accessAllowed ? 'block' : 'none';\n",
              "\n",
              "      async function convertToInteractive(key) {\n",
              "        const element = document.querySelector('#df-61bf52fd-bbe4-4846-a7bd-0c929aeb66ec');\n",
              "        const dataTable =\n",
              "          await google.colab.kernel.invokeFunction('convertToInteractive',\n",
              "                                                    [key], {});\n",
              "        if (!dataTable) return;\n",
              "\n",
              "        const docLinkHtml = 'Like what you see? Visit the ' +\n",
              "          '<a target=\"_blank\" href=https://colab.research.google.com/notebooks/data_table.ipynb>data table notebook</a>'\n",
              "          + ' to learn more about interactive tables.';\n",
              "        element.innerHTML = '';\n",
              "        dataTable['output_type'] = 'display_data';\n",
              "        await google.colab.output.renderOutput(dataTable, element);\n",
              "        const docLink = document.createElement('div');\n",
              "        docLink.innerHTML = docLinkHtml;\n",
              "        element.appendChild(docLink);\n",
              "      }\n",
              "    </script>\n",
              "  </div>\n",
              "\n",
              "\n",
              "<div id=\"df-670ccfe3-5a00-4b07-b2fa-26f68fc0fdd1\">\n",
              "  <button class=\"colab-df-quickchart\" onclick=\"quickchart('df-670ccfe3-5a00-4b07-b2fa-26f68fc0fdd1')\"\n",
              "            title=\"Suggest charts\"\n",
              "            style=\"display:none;\">\n",
              "\n",
              "<svg xmlns=\"http://www.w3.org/2000/svg\" height=\"24px\"viewBox=\"0 0 24 24\"\n",
              "     width=\"24px\">\n",
              "    <g>\n",
              "        <path d=\"M19 3H5c-1.1 0-2 .9-2 2v14c0 1.1.9 2 2 2h14c1.1 0 2-.9 2-2V5c0-1.1-.9-2-2-2zM9 17H7v-7h2v7zm4 0h-2V7h2v10zm4 0h-2v-4h2v4z\"/>\n",
              "    </g>\n",
              "</svg>\n",
              "  </button>\n",
              "\n",
              "<style>\n",
              "  .colab-df-quickchart {\n",
              "      --bg-color: #E8F0FE;\n",
              "      --fill-color: #1967D2;\n",
              "      --hover-bg-color: #E2EBFA;\n",
              "      --hover-fill-color: #174EA6;\n",
              "      --disabled-fill-color: #AAA;\n",
              "      --disabled-bg-color: #DDD;\n",
              "  }\n",
              "\n",
              "  [theme=dark] .colab-df-quickchart {\n",
              "      --bg-color: #3B4455;\n",
              "      --fill-color: #D2E3FC;\n",
              "      --hover-bg-color: #434B5C;\n",
              "      --hover-fill-color: #FFFFFF;\n",
              "      --disabled-bg-color: #3B4455;\n",
              "      --disabled-fill-color: #666;\n",
              "  }\n",
              "\n",
              "  .colab-df-quickchart {\n",
              "    background-color: var(--bg-color);\n",
              "    border: none;\n",
              "    border-radius: 50%;\n",
              "    cursor: pointer;\n",
              "    display: none;\n",
              "    fill: var(--fill-color);\n",
              "    height: 32px;\n",
              "    padding: 0;\n",
              "    width: 32px;\n",
              "  }\n",
              "\n",
              "  .colab-df-quickchart:hover {\n",
              "    background-color: var(--hover-bg-color);\n",
              "    box-shadow: 0 1px 2px rgba(60, 64, 67, 0.3), 0 1px 3px 1px rgba(60, 64, 67, 0.15);\n",
              "    fill: var(--button-hover-fill-color);\n",
              "  }\n",
              "\n",
              "  .colab-df-quickchart-complete:disabled,\n",
              "  .colab-df-quickchart-complete:disabled:hover {\n",
              "    background-color: var(--disabled-bg-color);\n",
              "    fill: var(--disabled-fill-color);\n",
              "    box-shadow: none;\n",
              "  }\n",
              "\n",
              "  .colab-df-spinner {\n",
              "    border: 2px solid var(--fill-color);\n",
              "    border-color: transparent;\n",
              "    border-bottom-color: var(--fill-color);\n",
              "    animation:\n",
              "      spin 1s steps(1) infinite;\n",
              "  }\n",
              "\n",
              "  @keyframes spin {\n",
              "    0% {\n",
              "      border-color: transparent;\n",
              "      border-bottom-color: var(--fill-color);\n",
              "      border-left-color: var(--fill-color);\n",
              "    }\n",
              "    20% {\n",
              "      border-color: transparent;\n",
              "      border-left-color: var(--fill-color);\n",
              "      border-top-color: var(--fill-color);\n",
              "    }\n",
              "    30% {\n",
              "      border-color: transparent;\n",
              "      border-left-color: var(--fill-color);\n",
              "      border-top-color: var(--fill-color);\n",
              "      border-right-color: var(--fill-color);\n",
              "    }\n",
              "    40% {\n",
              "      border-color: transparent;\n",
              "      border-right-color: var(--fill-color);\n",
              "      border-top-color: var(--fill-color);\n",
              "    }\n",
              "    60% {\n",
              "      border-color: transparent;\n",
              "      border-right-color: var(--fill-color);\n",
              "    }\n",
              "    80% {\n",
              "      border-color: transparent;\n",
              "      border-right-color: var(--fill-color);\n",
              "      border-bottom-color: var(--fill-color);\n",
              "    }\n",
              "    90% {\n",
              "      border-color: transparent;\n",
              "      border-bottom-color: var(--fill-color);\n",
              "    }\n",
              "  }\n",
              "</style>\n",
              "\n",
              "  <script>\n",
              "    async function quickchart(key) {\n",
              "      const quickchartButtonEl =\n",
              "        document.querySelector('#' + key + ' button');\n",
              "      quickchartButtonEl.disabled = true;  // To prevent multiple clicks.\n",
              "      quickchartButtonEl.classList.add('colab-df-spinner');\n",
              "      try {\n",
              "        const charts = await google.colab.kernel.invokeFunction(\n",
              "            'suggestCharts', [key], {});\n",
              "      } catch (error) {\n",
              "        console.error('Error during call to suggestCharts:', error);\n",
              "      }\n",
              "      quickchartButtonEl.classList.remove('colab-df-spinner');\n",
              "      quickchartButtonEl.classList.add('colab-df-quickchart-complete');\n",
              "    }\n",
              "    (() => {\n",
              "      let quickchartButtonEl =\n",
              "        document.querySelector('#df-670ccfe3-5a00-4b07-b2fa-26f68fc0fdd1 button');\n",
              "      quickchartButtonEl.style.display =\n",
              "        google.colab.kernel.accessAllowed ? 'block' : 'none';\n",
              "    })();\n",
              "  </script>\n",
              "</div>\n",
              "    </div>\n",
              "  </div>\n"
            ],
            "application/vnd.google.colaboratory.intrinsic+json": {
              "type": "dataframe",
              "summary": "{\n  \"name\": \"df\",\n  \"rows\": 4,\n  \"fields\": [\n    {\n      \"column\": \"index\",\n      \"properties\": {\n        \"dtype\": \"number\",\n        \"std\": 1,\n        \"min\": 0,\n        \"max\": 3,\n        \"num_unique_values\": 4,\n        \"samples\": [\n          1,\n          3,\n          0\n        ],\n        \"semantic_type\": \"\",\n        \"description\": \"\"\n      }\n    },\n    {\n      \"column\": \"A\",\n      \"properties\": {\n        \"dtype\": \"number\",\n        \"std\": 1,\n        \"min\": 0,\n        \"max\": 3,\n        \"num_unique_values\": 4,\n        \"samples\": [\n          1,\n          3,\n          0\n        ],\n        \"semantic_type\": \"\",\n        \"description\": \"\"\n      }\n    },\n    {\n      \"column\": \"B\",\n      \"properties\": {\n        \"dtype\": \"number\",\n        \"std\": 1,\n        \"min\": 4,\n        \"max\": 7,\n        \"num_unique_values\": 4,\n        \"samples\": [\n          5,\n          7,\n          4\n        ],\n        \"semantic_type\": \"\",\n        \"description\": \"\"\n      }\n    }\n  ]\n}"
            }
          },
          "metadata": {},
          "execution_count": 37
        }
      ]
    },
    {
      "cell_type": "markdown",
      "source": [
        "**Practice task:** <nbsp>\n",
        "Create a new series with the following adjustments:\n",
        "> Set `A` to B<br>\n",
        "> Set `B` to C <br>\n",
        "\n",
        "Compare and comment on the differences between the example and new output <br>\n",
        "**Extras**: Set `A` to 5 only without changing B and see what is the output<br>\n",
        "Show the new code and include the comments below"
      ],
      "metadata": {
        "id": "TZIoDO8M4am-"
      }
    },
    {
      "cell_type": "code",
      "source": [
        "# Practice Task here"
      ],
      "metadata": {
        "id": "RA4599rc4am-"
      },
      "execution_count": null,
      "outputs": []
    },
    {
      "cell_type": "markdown",
      "source": [
        "## <ins> Method Mastery: Leveling Up in Python in Two Parts <ins>\n",
        "Introduces methods, which are functions that belong to pandas objects. Methods allow for complex data operations and manipulations within pandas.\n"
      ],
      "metadata": {
        "id": "uisIWgaBsOdo"
      }
    },
    {
      "cell_type": "markdown",
      "source": [
        "### <ins> Part I - How to preview a data series <ins>\n",
        "* Example below:"
      ],
      "metadata": {
        "id": "mcexj94X2r0Y"
      }
    },
    {
      "cell_type": "code",
      "source": [
        "# Using the 'head()' method to preview the first few rows of a Data Series\n",
        "df = pd.Series({'A': 5, 'B': 2, 'C': 2, 'D': 2,'E': 2})\n",
        "df.head()"
      ],
      "metadata": {
        "colab": {
          "base_uri": "https://localhost:8080/"
        },
        "outputId": "16f40fd2-261c-4083-effb-2c6845b2cd0e",
        "id": "8ZNUziWI2r0Z"
      },
      "execution_count": null,
      "outputs": [
        {
          "output_type": "execute_result",
          "data": {
            "text/plain": [
              "A    5\n",
              "B    2\n",
              "C    2\n",
              "D    2\n",
              "E    2\n",
              "dtype: int64"
            ]
          },
          "metadata": {},
          "execution_count": 34
        }
      ]
    },
    {
      "cell_type": "markdown",
      "source": [
        "**Practice task:** <nbsp>\n",
        "Make the following adjustments to the code:\n",
        "> Set `A` to 1<br>\n",
        "> Set `B` to 3<br>\n",
        "> Set `C` to 8<br>\n",
        "> Set `D` to 6<br>\n",
        "> Set `E` to 5<br>\n",
        "\n",
        "Compare and comment on the differences between the example and new output <br>\n",
        "\n",
        "Show the new code and include the comments below"
      ],
      "metadata": {
        "id": "o4kzZOF82r0Z"
      }
    },
    {
      "cell_type": "code",
      "source": [
        "# Practice Task here"
      ],
      "metadata": {
        "id": "KCVnY1tb2r0Z"
      },
      "execution_count": null,
      "outputs": []
    },
    {
      "cell_type": "markdown",
      "source": [
        "### <ins> Part II - How to find the sum a data series <ins>\n",
        "* Example below:"
      ],
      "metadata": {
        "id": "K5DzPFwD2tVX"
      }
    },
    {
      "cell_type": "code",
      "source": [
        "# Using the 'sum()' method to find the total nnumber of people who participated in a sport\n",
        "df = pd.Series({'Hockey': 2, 'Fishing': 8, 'Hiking': 5, 'Swimming': 5,'Athletics': 2})\n",
        "df.sum()"
      ],
      "metadata": {
        "colab": {
          "base_uri": "https://localhost:8080/"
        },
        "outputId": "557fb8e8-44ff-41bf-ab4b-4608c40f1259",
        "id": "r1zXhePSsOdo"
      },
      "execution_count": null,
      "outputs": [
        {
          "output_type": "execute_result",
          "data": {
            "text/plain": [
              "22"
            ]
          },
          "metadata": {},
          "execution_count": 40
        }
      ]
    },
    {
      "cell_type": "markdown",
      "source": [
        "**Practice task:** <nbsp>\n",
        "Make the following adjustments to the code:\n",
        "> Set `Swimming` to 0<br>\n",
        "> Set `Fishing` to 6<br>\n",
        "\n",
        "\n",
        "Compare and comment on the differences between the example and new output<br>\n",
        "\n",
        "Show the new code and include the comments below"
      ],
      "metadata": {
        "id": "CeK1GmM_sOdp"
      }
    },
    {
      "cell_type": "code",
      "source": [
        "# Practice Task here"
      ],
      "metadata": {
        "id": "2cKcKWVmsOdp"
      },
      "execution_count": null,
      "outputs": []
    },
    {
      "cell_type": "markdown",
      "source": [
        "## <ins> How do you differentiate an argument with a parameter? <ins>\n",
        "Clarifies the difference between parameters (variables in method definitions) and arguments (values passed to methods). Understanding this distinction is key to customizing method behaviors.\n"
      ],
      "metadata": {
        "id": "2cDqw2sv6QiF"
      }
    },
    {
      "cell_type": "markdown",
      "source": [
        "### <ins> How to define parameters and arguments <ins>\n",
        "* Example below:"
      ],
      "metadata": {
        "id": "JGZfJZ7J6QiG"
      }
    },
    {
      "cell_type": "code",
      "source": [
        "# Using the 'head()' method to preview the first few rows of a Data Series\n",
        "df = pd.Series({'A': 5, 'B': 2, 'C': 2, 'D': 2,'E': 2})\n",
        "df.head(2) # The option to set the number of rows is the parameter of the .head() method\n",
        "# Our choice of that number is an argument\n"
      ],
      "metadata": {
        "colab": {
          "base_uri": "https://localhost:8080/"
        },
        "outputId": "e9021b13-6925-4944-a367-fc44f894ec7a",
        "id": "d5ZIQfTw6QiG"
      },
      "execution_count": null,
      "outputs": [
        {
          "output_type": "execute_result",
          "data": {
            "text/plain": [
              "A    5\n",
              "B    2\n",
              "dtype: int64"
            ]
          },
          "metadata": {},
          "execution_count": 45
        }
      ]
    },
    {
      "cell_type": "markdown",
      "source": [
        "**Practice task:** <nbsp>\n",
        "Print your output with the following adjustments:\n",
        "> Set the argument to 3,  **Hint**: `df.head(3)`<br>\n",
        "\n",
        "Compare and comment on the differences between the example and new output <br>\n",
        "**Extras**: Set the method to `.tail(2)` and see what is the output<br>\n",
        "Show the new code and include the comments below"
      ],
      "metadata": {
        "id": "aePAEWwP6QiH"
      }
    },
    {
      "cell_type": "code",
      "source": [
        "# Practice Task here"
      ],
      "metadata": {
        "id": "2gkSVAh86QiH"
      },
      "execution_count": null,
      "outputs": []
    },
    {
      "cell_type": "markdown",
      "source": [
        "## <ins> The Pandas Documentation <ins>\n",
        "An overview of how to navigate and utilize the pandas documentation for learning and troubleshooting. The documentation is an invaluable resource for understanding the functionalities and capabilities of pandas.\n"
      ],
      "metadata": {
        "id": "QVpy5iK9EDa3"
      }
    },
    {
      "cell_type": "markdown",
      "source": [
        "### <ins> Link to website <ins>\n",
        "**Pandas Documentation**: https://pandas.pydata.org/docs/ <br>\n",
        "**Pandas Documentation - Series**: https://pandas.pydata.org/docs/reference/api/pandas.Series.sum.html"
      ],
      "metadata": {
        "id": "3Rh5ee8hEDa9"
      }
    },
    {
      "cell_type": "markdown",
      "source": [
        "## <ins> DataFrame Dynamics: An Overview <ins>\n",
        "Covers the DataFrame, a two-dimensional, size-mutable, potentially heterogeneous tabular data structure. DataFrames are central to pandas and data analysis tasks, supporting a wide variety of operations.\n"
      ],
      "metadata": {
        "id": "sjQMTuQUFsBU"
      }
    },
    {
      "cell_type": "markdown",
      "source": [
        "### <ins> How to create a DataFrame <ins>\n",
        "* Example below:"
      ],
      "metadata": {
        "id": "4o9czW8VFsBb"
      }
    },
    {
      "cell_type": "code",
      "source": [
        "# Creating a simple DataFrame\n",
        "df = pd.DataFrame({'A': [1, 2, 3], 'B': [4, 5, 6]})\n",
        "df"
      ],
      "metadata": {
        "colab": {
          "base_uri": "https://localhost:8080/",
          "height": 143
        },
        "outputId": "35f035c4-48cb-42ee-fd98-374f7c2a4d6d",
        "id": "NxgkiHUsFsBb"
      },
      "execution_count": null,
      "outputs": [
        {
          "output_type": "execute_result",
          "data": {
            "text/plain": [
              "   A  B\n",
              "0  1  4\n",
              "1  2  5\n",
              "2  3  6"
            ],
            "text/html": [
              "\n",
              "  <div id=\"df-c45d9ff5-a138-4769-96b7-94ce91c4e495\" class=\"colab-df-container\">\n",
              "    <div>\n",
              "<style scoped>\n",
              "    .dataframe tbody tr th:only-of-type {\n",
              "        vertical-align: middle;\n",
              "    }\n",
              "\n",
              "    .dataframe tbody tr th {\n",
              "        vertical-align: top;\n",
              "    }\n",
              "\n",
              "    .dataframe thead th {\n",
              "        text-align: right;\n",
              "    }\n",
              "</style>\n",
              "<table border=\"1\" class=\"dataframe\">\n",
              "  <thead>\n",
              "    <tr style=\"text-align: right;\">\n",
              "      <th></th>\n",
              "      <th>A</th>\n",
              "      <th>B</th>\n",
              "    </tr>\n",
              "  </thead>\n",
              "  <tbody>\n",
              "    <tr>\n",
              "      <th>0</th>\n",
              "      <td>1</td>\n",
              "      <td>4</td>\n",
              "    </tr>\n",
              "    <tr>\n",
              "      <th>1</th>\n",
              "      <td>2</td>\n",
              "      <td>5</td>\n",
              "    </tr>\n",
              "    <tr>\n",
              "      <th>2</th>\n",
              "      <td>3</td>\n",
              "      <td>6</td>\n",
              "    </tr>\n",
              "  </tbody>\n",
              "</table>\n",
              "</div>\n",
              "    <div class=\"colab-df-buttons\">\n",
              "\n",
              "  <div class=\"colab-df-container\">\n",
              "    <button class=\"colab-df-convert\" onclick=\"convertToInteractive('df-c45d9ff5-a138-4769-96b7-94ce91c4e495')\"\n",
              "            title=\"Convert this dataframe to an interactive table.\"\n",
              "            style=\"display:none;\">\n",
              "\n",
              "  <svg xmlns=\"http://www.w3.org/2000/svg\" height=\"24px\" viewBox=\"0 -960 960 960\">\n",
              "    <path d=\"M120-120v-720h720v720H120Zm60-500h600v-160H180v160Zm220 220h160v-160H400v160Zm0 220h160v-160H400v160ZM180-400h160v-160H180v160Zm440 0h160v-160H620v160ZM180-180h160v-160H180v160Zm440 0h160v-160H620v160Z\"/>\n",
              "  </svg>\n",
              "    </button>\n",
              "\n",
              "  <style>\n",
              "    .colab-df-container {\n",
              "      display:flex;\n",
              "      gap: 12px;\n",
              "    }\n",
              "\n",
              "    .colab-df-convert {\n",
              "      background-color: #E8F0FE;\n",
              "      border: none;\n",
              "      border-radius: 50%;\n",
              "      cursor: pointer;\n",
              "      display: none;\n",
              "      fill: #1967D2;\n",
              "      height: 32px;\n",
              "      padding: 0 0 0 0;\n",
              "      width: 32px;\n",
              "    }\n",
              "\n",
              "    .colab-df-convert:hover {\n",
              "      background-color: #E2EBFA;\n",
              "      box-shadow: 0px 1px 2px rgba(60, 64, 67, 0.3), 0px 1px 3px 1px rgba(60, 64, 67, 0.15);\n",
              "      fill: #174EA6;\n",
              "    }\n",
              "\n",
              "    .colab-df-buttons div {\n",
              "      margin-bottom: 4px;\n",
              "    }\n",
              "\n",
              "    [theme=dark] .colab-df-convert {\n",
              "      background-color: #3B4455;\n",
              "      fill: #D2E3FC;\n",
              "    }\n",
              "\n",
              "    [theme=dark] .colab-df-convert:hover {\n",
              "      background-color: #434B5C;\n",
              "      box-shadow: 0px 1px 3px 1px rgba(0, 0, 0, 0.15);\n",
              "      filter: drop-shadow(0px 1px 2px rgba(0, 0, 0, 0.3));\n",
              "      fill: #FFFFFF;\n",
              "    }\n",
              "  </style>\n",
              "\n",
              "    <script>\n",
              "      const buttonEl =\n",
              "        document.querySelector('#df-c45d9ff5-a138-4769-96b7-94ce91c4e495 button.colab-df-convert');\n",
              "      buttonEl.style.display =\n",
              "        google.colab.kernel.accessAllowed ? 'block' : 'none';\n",
              "\n",
              "      async function convertToInteractive(key) {\n",
              "        const element = document.querySelector('#df-c45d9ff5-a138-4769-96b7-94ce91c4e495');\n",
              "        const dataTable =\n",
              "          await google.colab.kernel.invokeFunction('convertToInteractive',\n",
              "                                                    [key], {});\n",
              "        if (!dataTable) return;\n",
              "\n",
              "        const docLinkHtml = 'Like what you see? Visit the ' +\n",
              "          '<a target=\"_blank\" href=https://colab.research.google.com/notebooks/data_table.ipynb>data table notebook</a>'\n",
              "          + ' to learn more about interactive tables.';\n",
              "        element.innerHTML = '';\n",
              "        dataTable['output_type'] = 'display_data';\n",
              "        await google.colab.output.renderOutput(dataTable, element);\n",
              "        const docLink = document.createElement('div');\n",
              "        docLink.innerHTML = docLinkHtml;\n",
              "        element.appendChild(docLink);\n",
              "      }\n",
              "    </script>\n",
              "  </div>\n",
              "\n",
              "\n",
              "<div id=\"df-c5f474c0-c70e-4acc-8609-6186b8459a94\">\n",
              "  <button class=\"colab-df-quickchart\" onclick=\"quickchart('df-c5f474c0-c70e-4acc-8609-6186b8459a94')\"\n",
              "            title=\"Suggest charts\"\n",
              "            style=\"display:none;\">\n",
              "\n",
              "<svg xmlns=\"http://www.w3.org/2000/svg\" height=\"24px\"viewBox=\"0 0 24 24\"\n",
              "     width=\"24px\">\n",
              "    <g>\n",
              "        <path d=\"M19 3H5c-1.1 0-2 .9-2 2v14c0 1.1.9 2 2 2h14c1.1 0 2-.9 2-2V5c0-1.1-.9-2-2-2zM9 17H7v-7h2v7zm4 0h-2V7h2v10zm4 0h-2v-4h2v4z\"/>\n",
              "    </g>\n",
              "</svg>\n",
              "  </button>\n",
              "\n",
              "<style>\n",
              "  .colab-df-quickchart {\n",
              "      --bg-color: #E8F0FE;\n",
              "      --fill-color: #1967D2;\n",
              "      --hover-bg-color: #E2EBFA;\n",
              "      --hover-fill-color: #174EA6;\n",
              "      --disabled-fill-color: #AAA;\n",
              "      --disabled-bg-color: #DDD;\n",
              "  }\n",
              "\n",
              "  [theme=dark] .colab-df-quickchart {\n",
              "      --bg-color: #3B4455;\n",
              "      --fill-color: #D2E3FC;\n",
              "      --hover-bg-color: #434B5C;\n",
              "      --hover-fill-color: #FFFFFF;\n",
              "      --disabled-bg-color: #3B4455;\n",
              "      --disabled-fill-color: #666;\n",
              "  }\n",
              "\n",
              "  .colab-df-quickchart {\n",
              "    background-color: var(--bg-color);\n",
              "    border: none;\n",
              "    border-radius: 50%;\n",
              "    cursor: pointer;\n",
              "    display: none;\n",
              "    fill: var(--fill-color);\n",
              "    height: 32px;\n",
              "    padding: 0;\n",
              "    width: 32px;\n",
              "  }\n",
              "\n",
              "  .colab-df-quickchart:hover {\n",
              "    background-color: var(--hover-bg-color);\n",
              "    box-shadow: 0 1px 2px rgba(60, 64, 67, 0.3), 0 1px 3px 1px rgba(60, 64, 67, 0.15);\n",
              "    fill: var(--button-hover-fill-color);\n",
              "  }\n",
              "\n",
              "  .colab-df-quickchart-complete:disabled,\n",
              "  .colab-df-quickchart-complete:disabled:hover {\n",
              "    background-color: var(--disabled-bg-color);\n",
              "    fill: var(--disabled-fill-color);\n",
              "    box-shadow: none;\n",
              "  }\n",
              "\n",
              "  .colab-df-spinner {\n",
              "    border: 2px solid var(--fill-color);\n",
              "    border-color: transparent;\n",
              "    border-bottom-color: var(--fill-color);\n",
              "    animation:\n",
              "      spin 1s steps(1) infinite;\n",
              "  }\n",
              "\n",
              "  @keyframes spin {\n",
              "    0% {\n",
              "      border-color: transparent;\n",
              "      border-bottom-color: var(--fill-color);\n",
              "      border-left-color: var(--fill-color);\n",
              "    }\n",
              "    20% {\n",
              "      border-color: transparent;\n",
              "      border-left-color: var(--fill-color);\n",
              "      border-top-color: var(--fill-color);\n",
              "    }\n",
              "    30% {\n",
              "      border-color: transparent;\n",
              "      border-left-color: var(--fill-color);\n",
              "      border-top-color: var(--fill-color);\n",
              "      border-right-color: var(--fill-color);\n",
              "    }\n",
              "    40% {\n",
              "      border-color: transparent;\n",
              "      border-right-color: var(--fill-color);\n",
              "      border-top-color: var(--fill-color);\n",
              "    }\n",
              "    60% {\n",
              "      border-color: transparent;\n",
              "      border-right-color: var(--fill-color);\n",
              "    }\n",
              "    80% {\n",
              "      border-color: transparent;\n",
              "      border-right-color: var(--fill-color);\n",
              "      border-bottom-color: var(--fill-color);\n",
              "    }\n",
              "    90% {\n",
              "      border-color: transparent;\n",
              "      border-bottom-color: var(--fill-color);\n",
              "    }\n",
              "  }\n",
              "</style>\n",
              "\n",
              "  <script>\n",
              "    async function quickchart(key) {\n",
              "      const quickchartButtonEl =\n",
              "        document.querySelector('#' + key + ' button');\n",
              "      quickchartButtonEl.disabled = true;  // To prevent multiple clicks.\n",
              "      quickchartButtonEl.classList.add('colab-df-spinner');\n",
              "      try {\n",
              "        const charts = await google.colab.kernel.invokeFunction(\n",
              "            'suggestCharts', [key], {});\n",
              "      } catch (error) {\n",
              "        console.error('Error during call to suggestCharts:', error);\n",
              "      }\n",
              "      quickchartButtonEl.classList.remove('colab-df-spinner');\n",
              "      quickchartButtonEl.classList.add('colab-df-quickchart-complete');\n",
              "    }\n",
              "    (() => {\n",
              "      let quickchartButtonEl =\n",
              "        document.querySelector('#df-c5f474c0-c70e-4acc-8609-6186b8459a94 button');\n",
              "      quickchartButtonEl.style.display =\n",
              "        google.colab.kernel.accessAllowed ? 'block' : 'none';\n",
              "    })();\n",
              "  </script>\n",
              "</div>\n",
              "    </div>\n",
              "  </div>\n"
            ],
            "application/vnd.google.colaboratory.intrinsic+json": {
              "type": "dataframe",
              "variable_name": "df",
              "summary": "{\n  \"name\": \"df\",\n  \"rows\": 3,\n  \"fields\": [\n    {\n      \"column\": \"A\",\n      \"properties\": {\n        \"dtype\": \"number\",\n        \"std\": 1,\n        \"min\": 1,\n        \"max\": 3,\n        \"num_unique_values\": 3,\n        \"samples\": [\n          1,\n          2,\n          3\n        ],\n        \"semantic_type\": \"\",\n        \"description\": \"\"\n      }\n    },\n    {\n      \"column\": \"B\",\n      \"properties\": {\n        \"dtype\": \"number\",\n        \"std\": 1,\n        \"min\": 4,\n        \"max\": 6,\n        \"num_unique_values\": 3,\n        \"samples\": [\n          4,\n          5,\n          6\n        ],\n        \"semantic_type\": \"\",\n        \"description\": \"\"\n      }\n    }\n  ]\n}"
            }
          },
          "metadata": {},
          "execution_count": 47
        }
      ]
    },
    {
      "cell_type": "markdown",
      "source": [
        "**Practice task:** <nbsp>\n",
        "Create a new DataFrame with the following adjustments:\n",
        "> Add a new column 'C' to the DataFrame with values [7,8,9] <br>\n",
        "\n",
        "Compare and comment on the differences between the example and new output <br>\n",
        "\n",
        "Show the new code and include the comments below"
      ],
      "metadata": {
        "id": "R1qFZ6GyFsBb"
      }
    },
    {
      "cell_type": "code",
      "source": [
        "# Practice Task here"
      ],
      "metadata": {
        "id": "tblAg_s1FsBb"
      },
      "execution_count": null,
      "outputs": []
    },
    {
      "cell_type": "markdown",
      "source": [
        "## <ins> Creating DataFrames from Scratch - Part I & Part II <ins>\n",
        "Demonstrates various methods for creating DataFrames from different data sources. Flexibility in creating DataFrames is crucial for custom data analysis workflows.\n"
      ],
      "metadata": {
        "id": "Ghi3VvMYIHrT"
      }
    },
    {
      "cell_type": "markdown",
      "source": [
        "### <ins> Part I - How to create a DataFrame from a dictionary of lists <ins>\n",
        "* Example below:"
      ],
      "metadata": {
        "id": "KcT3aJi2IHrZ"
      }
    },
    {
      "cell_type": "code",
      "source": [
        "# creating lists\n",
        "l1 =[\"Ali\", \"Quentin\", \"Lionel\", \"Bruce\", \"Phoenix\"]\n",
        "l2 =[\"Zoro\", \"King\", \"Chaplin\", \"Queen\", \"Joker\"]\n",
        "l3 =[1, 43, 55, 30, 20]\n",
        "l4 =[48, 12, 47, 71, 19]\n",
        "\n",
        "# creating the DataFrame\n",
        "team = pd.DataFrame(list(zip(l1, l2, l3, l4)))\n",
        "team"
      ],
      "metadata": {
        "colab": {
          "base_uri": "https://localhost:8080/",
          "height": 206
        },
        "outputId": "9c418d7b-9dc5-49a4-c5b2-571db93503c6",
        "id": "AkKvPLvRIHrZ"
      },
      "execution_count": null,
      "outputs": [
        {
          "output_type": "execute_result",
          "data": {
            "text/plain": [
              "         0        1   2   3\n",
              "0      Ali     Zoro   1  48\n",
              "1  Quentin     King  43  12\n",
              "2   Lionel  Chaplin  55  47\n",
              "3    Bruce    Queen  30  71\n",
              "4  Phoenix    Joker  20  19"
            ],
            "text/html": [
              "\n",
              "  <div id=\"df-077c0f55-f727-4619-97fc-bcd97807c98b\" class=\"colab-df-container\">\n",
              "    <div>\n",
              "<style scoped>\n",
              "    .dataframe tbody tr th:only-of-type {\n",
              "        vertical-align: middle;\n",
              "    }\n",
              "\n",
              "    .dataframe tbody tr th {\n",
              "        vertical-align: top;\n",
              "    }\n",
              "\n",
              "    .dataframe thead th {\n",
              "        text-align: right;\n",
              "    }\n",
              "</style>\n",
              "<table border=\"1\" class=\"dataframe\">\n",
              "  <thead>\n",
              "    <tr style=\"text-align: right;\">\n",
              "      <th></th>\n",
              "      <th>0</th>\n",
              "      <th>1</th>\n",
              "      <th>2</th>\n",
              "      <th>3</th>\n",
              "    </tr>\n",
              "  </thead>\n",
              "  <tbody>\n",
              "    <tr>\n",
              "      <th>0</th>\n",
              "      <td>Ali</td>\n",
              "      <td>Zoro</td>\n",
              "      <td>1</td>\n",
              "      <td>48</td>\n",
              "    </tr>\n",
              "    <tr>\n",
              "      <th>1</th>\n",
              "      <td>Quentin</td>\n",
              "      <td>King</td>\n",
              "      <td>43</td>\n",
              "      <td>12</td>\n",
              "    </tr>\n",
              "    <tr>\n",
              "      <th>2</th>\n",
              "      <td>Lionel</td>\n",
              "      <td>Chaplin</td>\n",
              "      <td>55</td>\n",
              "      <td>47</td>\n",
              "    </tr>\n",
              "    <tr>\n",
              "      <th>3</th>\n",
              "      <td>Bruce</td>\n",
              "      <td>Queen</td>\n",
              "      <td>30</td>\n",
              "      <td>71</td>\n",
              "    </tr>\n",
              "    <tr>\n",
              "      <th>4</th>\n",
              "      <td>Phoenix</td>\n",
              "      <td>Joker</td>\n",
              "      <td>20</td>\n",
              "      <td>19</td>\n",
              "    </tr>\n",
              "  </tbody>\n",
              "</table>\n",
              "</div>\n",
              "    <div class=\"colab-df-buttons\">\n",
              "\n",
              "  <div class=\"colab-df-container\">\n",
              "    <button class=\"colab-df-convert\" onclick=\"convertToInteractive('df-077c0f55-f727-4619-97fc-bcd97807c98b')\"\n",
              "            title=\"Convert this dataframe to an interactive table.\"\n",
              "            style=\"display:none;\">\n",
              "\n",
              "  <svg xmlns=\"http://www.w3.org/2000/svg\" height=\"24px\" viewBox=\"0 -960 960 960\">\n",
              "    <path d=\"M120-120v-720h720v720H120Zm60-500h600v-160H180v160Zm220 220h160v-160H400v160Zm0 220h160v-160H400v160ZM180-400h160v-160H180v160Zm440 0h160v-160H620v160ZM180-180h160v-160H180v160Zm440 0h160v-160H620v160Z\"/>\n",
              "  </svg>\n",
              "    </button>\n",
              "\n",
              "  <style>\n",
              "    .colab-df-container {\n",
              "      display:flex;\n",
              "      gap: 12px;\n",
              "    }\n",
              "\n",
              "    .colab-df-convert {\n",
              "      background-color: #E8F0FE;\n",
              "      border: none;\n",
              "      border-radius: 50%;\n",
              "      cursor: pointer;\n",
              "      display: none;\n",
              "      fill: #1967D2;\n",
              "      height: 32px;\n",
              "      padding: 0 0 0 0;\n",
              "      width: 32px;\n",
              "    }\n",
              "\n",
              "    .colab-df-convert:hover {\n",
              "      background-color: #E2EBFA;\n",
              "      box-shadow: 0px 1px 2px rgba(60, 64, 67, 0.3), 0px 1px 3px 1px rgba(60, 64, 67, 0.15);\n",
              "      fill: #174EA6;\n",
              "    }\n",
              "\n",
              "    .colab-df-buttons div {\n",
              "      margin-bottom: 4px;\n",
              "    }\n",
              "\n",
              "    [theme=dark] .colab-df-convert {\n",
              "      background-color: #3B4455;\n",
              "      fill: #D2E3FC;\n",
              "    }\n",
              "\n",
              "    [theme=dark] .colab-df-convert:hover {\n",
              "      background-color: #434B5C;\n",
              "      box-shadow: 0px 1px 3px 1px rgba(0, 0, 0, 0.15);\n",
              "      filter: drop-shadow(0px 1px 2px rgba(0, 0, 0, 0.3));\n",
              "      fill: #FFFFFF;\n",
              "    }\n",
              "  </style>\n",
              "\n",
              "    <script>\n",
              "      const buttonEl =\n",
              "        document.querySelector('#df-077c0f55-f727-4619-97fc-bcd97807c98b button.colab-df-convert');\n",
              "      buttonEl.style.display =\n",
              "        google.colab.kernel.accessAllowed ? 'block' : 'none';\n",
              "\n",
              "      async function convertToInteractive(key) {\n",
              "        const element = document.querySelector('#df-077c0f55-f727-4619-97fc-bcd97807c98b');\n",
              "        const dataTable =\n",
              "          await google.colab.kernel.invokeFunction('convertToInteractive',\n",
              "                                                    [key], {});\n",
              "        if (!dataTable) return;\n",
              "\n",
              "        const docLinkHtml = 'Like what you see? Visit the ' +\n",
              "          '<a target=\"_blank\" href=https://colab.research.google.com/notebooks/data_table.ipynb>data table notebook</a>'\n",
              "          + ' to learn more about interactive tables.';\n",
              "        element.innerHTML = '';\n",
              "        dataTable['output_type'] = 'display_data';\n",
              "        await google.colab.output.renderOutput(dataTable, element);\n",
              "        const docLink = document.createElement('div');\n",
              "        docLink.innerHTML = docLinkHtml;\n",
              "        element.appendChild(docLink);\n",
              "      }\n",
              "    </script>\n",
              "  </div>\n",
              "\n",
              "\n",
              "<div id=\"df-6dfca6a2-9f1f-43ca-a3c6-c19c2d7238d5\">\n",
              "  <button class=\"colab-df-quickchart\" onclick=\"quickchart('df-6dfca6a2-9f1f-43ca-a3c6-c19c2d7238d5')\"\n",
              "            title=\"Suggest charts\"\n",
              "            style=\"display:none;\">\n",
              "\n",
              "<svg xmlns=\"http://www.w3.org/2000/svg\" height=\"24px\"viewBox=\"0 0 24 24\"\n",
              "     width=\"24px\">\n",
              "    <g>\n",
              "        <path d=\"M19 3H5c-1.1 0-2 .9-2 2v14c0 1.1.9 2 2 2h14c1.1 0 2-.9 2-2V5c0-1.1-.9-2-2-2zM9 17H7v-7h2v7zm4 0h-2V7h2v10zm4 0h-2v-4h2v4z\"/>\n",
              "    </g>\n",
              "</svg>\n",
              "  </button>\n",
              "\n",
              "<style>\n",
              "  .colab-df-quickchart {\n",
              "      --bg-color: #E8F0FE;\n",
              "      --fill-color: #1967D2;\n",
              "      --hover-bg-color: #E2EBFA;\n",
              "      --hover-fill-color: #174EA6;\n",
              "      --disabled-fill-color: #AAA;\n",
              "      --disabled-bg-color: #DDD;\n",
              "  }\n",
              "\n",
              "  [theme=dark] .colab-df-quickchart {\n",
              "      --bg-color: #3B4455;\n",
              "      --fill-color: #D2E3FC;\n",
              "      --hover-bg-color: #434B5C;\n",
              "      --hover-fill-color: #FFFFFF;\n",
              "      --disabled-bg-color: #3B4455;\n",
              "      --disabled-fill-color: #666;\n",
              "  }\n",
              "\n",
              "  .colab-df-quickchart {\n",
              "    background-color: var(--bg-color);\n",
              "    border: none;\n",
              "    border-radius: 50%;\n",
              "    cursor: pointer;\n",
              "    display: none;\n",
              "    fill: var(--fill-color);\n",
              "    height: 32px;\n",
              "    padding: 0;\n",
              "    width: 32px;\n",
              "  }\n",
              "\n",
              "  .colab-df-quickchart:hover {\n",
              "    background-color: var(--hover-bg-color);\n",
              "    box-shadow: 0 1px 2px rgba(60, 64, 67, 0.3), 0 1px 3px 1px rgba(60, 64, 67, 0.15);\n",
              "    fill: var(--button-hover-fill-color);\n",
              "  }\n",
              "\n",
              "  .colab-df-quickchart-complete:disabled,\n",
              "  .colab-df-quickchart-complete:disabled:hover {\n",
              "    background-color: var(--disabled-bg-color);\n",
              "    fill: var(--disabled-fill-color);\n",
              "    box-shadow: none;\n",
              "  }\n",
              "\n",
              "  .colab-df-spinner {\n",
              "    border: 2px solid var(--fill-color);\n",
              "    border-color: transparent;\n",
              "    border-bottom-color: var(--fill-color);\n",
              "    animation:\n",
              "      spin 1s steps(1) infinite;\n",
              "  }\n",
              "\n",
              "  @keyframes spin {\n",
              "    0% {\n",
              "      border-color: transparent;\n",
              "      border-bottom-color: var(--fill-color);\n",
              "      border-left-color: var(--fill-color);\n",
              "    }\n",
              "    20% {\n",
              "      border-color: transparent;\n",
              "      border-left-color: var(--fill-color);\n",
              "      border-top-color: var(--fill-color);\n",
              "    }\n",
              "    30% {\n",
              "      border-color: transparent;\n",
              "      border-left-color: var(--fill-color);\n",
              "      border-top-color: var(--fill-color);\n",
              "      border-right-color: var(--fill-color);\n",
              "    }\n",
              "    40% {\n",
              "      border-color: transparent;\n",
              "      border-right-color: var(--fill-color);\n",
              "      border-top-color: var(--fill-color);\n",
              "    }\n",
              "    60% {\n",
              "      border-color: transparent;\n",
              "      border-right-color: var(--fill-color);\n",
              "    }\n",
              "    80% {\n",
              "      border-color: transparent;\n",
              "      border-right-color: var(--fill-color);\n",
              "      border-bottom-color: var(--fill-color);\n",
              "    }\n",
              "    90% {\n",
              "      border-color: transparent;\n",
              "      border-bottom-color: var(--fill-color);\n",
              "    }\n",
              "  }\n",
              "</style>\n",
              "\n",
              "  <script>\n",
              "    async function quickchart(key) {\n",
              "      const quickchartButtonEl =\n",
              "        document.querySelector('#' + key + ' button');\n",
              "      quickchartButtonEl.disabled = true;  // To prevent multiple clicks.\n",
              "      quickchartButtonEl.classList.add('colab-df-spinner');\n",
              "      try {\n",
              "        const charts = await google.colab.kernel.invokeFunction(\n",
              "            'suggestCharts', [key], {});\n",
              "      } catch (error) {\n",
              "        console.error('Error during call to suggestCharts:', error);\n",
              "      }\n",
              "      quickchartButtonEl.classList.remove('colab-df-spinner');\n",
              "      quickchartButtonEl.classList.add('colab-df-quickchart-complete');\n",
              "    }\n",
              "    (() => {\n",
              "      let quickchartButtonEl =\n",
              "        document.querySelector('#df-6dfca6a2-9f1f-43ca-a3c6-c19c2d7238d5 button');\n",
              "      quickchartButtonEl.style.display =\n",
              "        google.colab.kernel.accessAllowed ? 'block' : 'none';\n",
              "    })();\n",
              "  </script>\n",
              "</div>\n",
              "    </div>\n",
              "  </div>\n"
            ],
            "application/vnd.google.colaboratory.intrinsic+json": {
              "type": "dataframe",
              "variable_name": "team",
              "summary": "{\n  \"name\": \"team\",\n  \"rows\": 5,\n  \"fields\": [\n    {\n      \"column\": 0,\n      \"properties\": {\n        \"dtype\": \"string\",\n        \"num_unique_values\": 5,\n        \"samples\": [\n          \"Quentin\",\n          \"Phoenix\",\n          \"Lionel\"\n        ],\n        \"semantic_type\": \"\",\n        \"description\": \"\"\n      }\n    },\n    {\n      \"column\": 1,\n      \"properties\": {\n        \"dtype\": \"string\",\n        \"num_unique_values\": 5,\n        \"samples\": [\n          \"King\",\n          \"Joker\",\n          \"Chaplin\"\n        ],\n        \"semantic_type\": \"\",\n        \"description\": \"\"\n      }\n    },\n    {\n      \"column\": 2,\n      \"properties\": {\n        \"dtype\": \"number\",\n        \"std\": 20,\n        \"min\": 1,\n        \"max\": 55,\n        \"num_unique_values\": 5,\n        \"samples\": [\n          43,\n          20,\n          55\n        ],\n        \"semantic_type\": \"\",\n        \"description\": \"\"\n      }\n    },\n    {\n      \"column\": 3,\n      \"properties\": {\n        \"dtype\": \"number\",\n        \"std\": 23,\n        \"min\": 12,\n        \"max\": 71,\n        \"num_unique_values\": 5,\n        \"samples\": [\n          12,\n          19,\n          47\n        ],\n        \"semantic_type\": \"\",\n        \"description\": \"\"\n      }\n    }\n  ]\n}"
            }
          },
          "metadata": {},
          "execution_count": 55
        }
      ]
    },
    {
      "cell_type": "markdown",
      "source": [
        "**Practice task:** <nbsp>\n",
        "Print your output with the following adjustments:\n",
        "> Assign column names to the DataFrame,  **Hint**: team.columns =['Name', 'Code', 'Age', 'Weight']<br>\n",
        "\n",
        "Compare and comment on the differences between the example and new output <br>\n",
        "\n",
        "Show the new code and include the comments below"
      ],
      "metadata": {
        "id": "ju5xf2C7IHrZ"
      }
    },
    {
      "cell_type": "code",
      "source": [
        "# Practice Task here"
      ],
      "metadata": {
        "id": "Vg9NEjo0IHra"
      },
      "execution_count": null,
      "outputs": []
    },
    {
      "cell_type": "markdown",
      "source": [
        "### <ins> Part II - How to create a DataFrame from a list of lists <ins>\n",
        "* Example below:"
      ],
      "metadata": {
        "id": "UTTRrTNmML8A"
      }
    },
    {
      "cell_type": "code",
      "source": [
        "# Creating a DataFrame from a list of lists\n",
        "data = [['work',3],['hobbies',2],['relationship',3]]\n",
        "df = pd.DataFrame(data)\n",
        "df"
      ],
      "metadata": {
        "colab": {
          "base_uri": "https://localhost:8080/",
          "height": 143
        },
        "outputId": "25898538-2c69-4b9a-8e65-9c82dd37697a",
        "id": "Ti2fJyXCML8G"
      },
      "execution_count": null,
      "outputs": [
        {
          "output_type": "execute_result",
          "data": {
            "text/plain": [
              "              0  1\n",
              "0          work  3\n",
              "1       hobbies  2\n",
              "2  relationship  3"
            ],
            "text/html": [
              "\n",
              "  <div id=\"df-dd4951e0-c738-4c59-9eb0-1816171c5529\" class=\"colab-df-container\">\n",
              "    <div>\n",
              "<style scoped>\n",
              "    .dataframe tbody tr th:only-of-type {\n",
              "        vertical-align: middle;\n",
              "    }\n",
              "\n",
              "    .dataframe tbody tr th {\n",
              "        vertical-align: top;\n",
              "    }\n",
              "\n",
              "    .dataframe thead th {\n",
              "        text-align: right;\n",
              "    }\n",
              "</style>\n",
              "<table border=\"1\" class=\"dataframe\">\n",
              "  <thead>\n",
              "    <tr style=\"text-align: right;\">\n",
              "      <th></th>\n",
              "      <th>0</th>\n",
              "      <th>1</th>\n",
              "    </tr>\n",
              "  </thead>\n",
              "  <tbody>\n",
              "    <tr>\n",
              "      <th>0</th>\n",
              "      <td>work</td>\n",
              "      <td>3</td>\n",
              "    </tr>\n",
              "    <tr>\n",
              "      <th>1</th>\n",
              "      <td>hobbies</td>\n",
              "      <td>2</td>\n",
              "    </tr>\n",
              "    <tr>\n",
              "      <th>2</th>\n",
              "      <td>relationship</td>\n",
              "      <td>3</td>\n",
              "    </tr>\n",
              "  </tbody>\n",
              "</table>\n",
              "</div>\n",
              "    <div class=\"colab-df-buttons\">\n",
              "\n",
              "  <div class=\"colab-df-container\">\n",
              "    <button class=\"colab-df-convert\" onclick=\"convertToInteractive('df-dd4951e0-c738-4c59-9eb0-1816171c5529')\"\n",
              "            title=\"Convert this dataframe to an interactive table.\"\n",
              "            style=\"display:none;\">\n",
              "\n",
              "  <svg xmlns=\"http://www.w3.org/2000/svg\" height=\"24px\" viewBox=\"0 -960 960 960\">\n",
              "    <path d=\"M120-120v-720h720v720H120Zm60-500h600v-160H180v160Zm220 220h160v-160H400v160Zm0 220h160v-160H400v160ZM180-400h160v-160H180v160Zm440 0h160v-160H620v160ZM180-180h160v-160H180v160Zm440 0h160v-160H620v160Z\"/>\n",
              "  </svg>\n",
              "    </button>\n",
              "\n",
              "  <style>\n",
              "    .colab-df-container {\n",
              "      display:flex;\n",
              "      gap: 12px;\n",
              "    }\n",
              "\n",
              "    .colab-df-convert {\n",
              "      background-color: #E8F0FE;\n",
              "      border: none;\n",
              "      border-radius: 50%;\n",
              "      cursor: pointer;\n",
              "      display: none;\n",
              "      fill: #1967D2;\n",
              "      height: 32px;\n",
              "      padding: 0 0 0 0;\n",
              "      width: 32px;\n",
              "    }\n",
              "\n",
              "    .colab-df-convert:hover {\n",
              "      background-color: #E2EBFA;\n",
              "      box-shadow: 0px 1px 2px rgba(60, 64, 67, 0.3), 0px 1px 3px 1px rgba(60, 64, 67, 0.15);\n",
              "      fill: #174EA6;\n",
              "    }\n",
              "\n",
              "    .colab-df-buttons div {\n",
              "      margin-bottom: 4px;\n",
              "    }\n",
              "\n",
              "    [theme=dark] .colab-df-convert {\n",
              "      background-color: #3B4455;\n",
              "      fill: #D2E3FC;\n",
              "    }\n",
              "\n",
              "    [theme=dark] .colab-df-convert:hover {\n",
              "      background-color: #434B5C;\n",
              "      box-shadow: 0px 1px 3px 1px rgba(0, 0, 0, 0.15);\n",
              "      filter: drop-shadow(0px 1px 2px rgba(0, 0, 0, 0.3));\n",
              "      fill: #FFFFFF;\n",
              "    }\n",
              "  </style>\n",
              "\n",
              "    <script>\n",
              "      const buttonEl =\n",
              "        document.querySelector('#df-dd4951e0-c738-4c59-9eb0-1816171c5529 button.colab-df-convert');\n",
              "      buttonEl.style.display =\n",
              "        google.colab.kernel.accessAllowed ? 'block' : 'none';\n",
              "\n",
              "      async function convertToInteractive(key) {\n",
              "        const element = document.querySelector('#df-dd4951e0-c738-4c59-9eb0-1816171c5529');\n",
              "        const dataTable =\n",
              "          await google.colab.kernel.invokeFunction('convertToInteractive',\n",
              "                                                    [key], {});\n",
              "        if (!dataTable) return;\n",
              "\n",
              "        const docLinkHtml = 'Like what you see? Visit the ' +\n",
              "          '<a target=\"_blank\" href=https://colab.research.google.com/notebooks/data_table.ipynb>data table notebook</a>'\n",
              "          + ' to learn more about interactive tables.';\n",
              "        element.innerHTML = '';\n",
              "        dataTable['output_type'] = 'display_data';\n",
              "        await google.colab.output.renderOutput(dataTable, element);\n",
              "        const docLink = document.createElement('div');\n",
              "        docLink.innerHTML = docLinkHtml;\n",
              "        element.appendChild(docLink);\n",
              "      }\n",
              "    </script>\n",
              "  </div>\n",
              "\n",
              "\n",
              "<div id=\"df-32fa9863-6395-4b2b-b5c4-835e36a723a4\">\n",
              "  <button class=\"colab-df-quickchart\" onclick=\"quickchart('df-32fa9863-6395-4b2b-b5c4-835e36a723a4')\"\n",
              "            title=\"Suggest charts\"\n",
              "            style=\"display:none;\">\n",
              "\n",
              "<svg xmlns=\"http://www.w3.org/2000/svg\" height=\"24px\"viewBox=\"0 0 24 24\"\n",
              "     width=\"24px\">\n",
              "    <g>\n",
              "        <path d=\"M19 3H5c-1.1 0-2 .9-2 2v14c0 1.1.9 2 2 2h14c1.1 0 2-.9 2-2V5c0-1.1-.9-2-2-2zM9 17H7v-7h2v7zm4 0h-2V7h2v10zm4 0h-2v-4h2v4z\"/>\n",
              "    </g>\n",
              "</svg>\n",
              "  </button>\n",
              "\n",
              "<style>\n",
              "  .colab-df-quickchart {\n",
              "      --bg-color: #E8F0FE;\n",
              "      --fill-color: #1967D2;\n",
              "      --hover-bg-color: #E2EBFA;\n",
              "      --hover-fill-color: #174EA6;\n",
              "      --disabled-fill-color: #AAA;\n",
              "      --disabled-bg-color: #DDD;\n",
              "  }\n",
              "\n",
              "  [theme=dark] .colab-df-quickchart {\n",
              "      --bg-color: #3B4455;\n",
              "      --fill-color: #D2E3FC;\n",
              "      --hover-bg-color: #434B5C;\n",
              "      --hover-fill-color: #FFFFFF;\n",
              "      --disabled-bg-color: #3B4455;\n",
              "      --disabled-fill-color: #666;\n",
              "  }\n",
              "\n",
              "  .colab-df-quickchart {\n",
              "    background-color: var(--bg-color);\n",
              "    border: none;\n",
              "    border-radius: 50%;\n",
              "    cursor: pointer;\n",
              "    display: none;\n",
              "    fill: var(--fill-color);\n",
              "    height: 32px;\n",
              "    padding: 0;\n",
              "    width: 32px;\n",
              "  }\n",
              "\n",
              "  .colab-df-quickchart:hover {\n",
              "    background-color: var(--hover-bg-color);\n",
              "    box-shadow: 0 1px 2px rgba(60, 64, 67, 0.3), 0 1px 3px 1px rgba(60, 64, 67, 0.15);\n",
              "    fill: var(--button-hover-fill-color);\n",
              "  }\n",
              "\n",
              "  .colab-df-quickchart-complete:disabled,\n",
              "  .colab-df-quickchart-complete:disabled:hover {\n",
              "    background-color: var(--disabled-bg-color);\n",
              "    fill: var(--disabled-fill-color);\n",
              "    box-shadow: none;\n",
              "  }\n",
              "\n",
              "  .colab-df-spinner {\n",
              "    border: 2px solid var(--fill-color);\n",
              "    border-color: transparent;\n",
              "    border-bottom-color: var(--fill-color);\n",
              "    animation:\n",
              "      spin 1s steps(1) infinite;\n",
              "  }\n",
              "\n",
              "  @keyframes spin {\n",
              "    0% {\n",
              "      border-color: transparent;\n",
              "      border-bottom-color: var(--fill-color);\n",
              "      border-left-color: var(--fill-color);\n",
              "    }\n",
              "    20% {\n",
              "      border-color: transparent;\n",
              "      border-left-color: var(--fill-color);\n",
              "      border-top-color: var(--fill-color);\n",
              "    }\n",
              "    30% {\n",
              "      border-color: transparent;\n",
              "      border-left-color: var(--fill-color);\n",
              "      border-top-color: var(--fill-color);\n",
              "      border-right-color: var(--fill-color);\n",
              "    }\n",
              "    40% {\n",
              "      border-color: transparent;\n",
              "      border-right-color: var(--fill-color);\n",
              "      border-top-color: var(--fill-color);\n",
              "    }\n",
              "    60% {\n",
              "      border-color: transparent;\n",
              "      border-right-color: var(--fill-color);\n",
              "    }\n",
              "    80% {\n",
              "      border-color: transparent;\n",
              "      border-right-color: var(--fill-color);\n",
              "      border-bottom-color: var(--fill-color);\n",
              "    }\n",
              "    90% {\n",
              "      border-color: transparent;\n",
              "      border-bottom-color: var(--fill-color);\n",
              "    }\n",
              "  }\n",
              "</style>\n",
              "\n",
              "  <script>\n",
              "    async function quickchart(key) {\n",
              "      const quickchartButtonEl =\n",
              "        document.querySelector('#' + key + ' button');\n",
              "      quickchartButtonEl.disabled = true;  // To prevent multiple clicks.\n",
              "      quickchartButtonEl.classList.add('colab-df-spinner');\n",
              "      try {\n",
              "        const charts = await google.colab.kernel.invokeFunction(\n",
              "            'suggestCharts', [key], {});\n",
              "      } catch (error) {\n",
              "        console.error('Error during call to suggestCharts:', error);\n",
              "      }\n",
              "      quickchartButtonEl.classList.remove('colab-df-spinner');\n",
              "      quickchartButtonEl.classList.add('colab-df-quickchart-complete');\n",
              "    }\n",
              "    (() => {\n",
              "      let quickchartButtonEl =\n",
              "        document.querySelector('#df-32fa9863-6395-4b2b-b5c4-835e36a723a4 button');\n",
              "      quickchartButtonEl.style.display =\n",
              "        google.colab.kernel.accessAllowed ? 'block' : 'none';\n",
              "    })();\n",
              "  </script>\n",
              "</div>\n",
              "    </div>\n",
              "  </div>\n"
            ],
            "application/vnd.google.colaboratory.intrinsic+json": {
              "type": "dataframe",
              "variable_name": "df",
              "summary": "{\n  \"name\": \"df\",\n  \"rows\": 3,\n  \"fields\": [\n    {\n      \"column\": 0,\n      \"properties\": {\n        \"dtype\": \"string\",\n        \"num_unique_values\": 3,\n        \"samples\": [\n          \"work\",\n          \"hobbies\",\n          \"relationship\"\n        ],\n        \"semantic_type\": \"\",\n        \"description\": \"\"\n      }\n    },\n    {\n      \"column\": 1,\n      \"properties\": {\n        \"dtype\": \"number\",\n        \"std\": 0,\n        \"min\": 2,\n        \"max\": 3,\n        \"num_unique_values\": 2,\n        \"samples\": [\n          2,\n          3\n        ],\n        \"semantic_type\": \"\",\n        \"description\": \"\"\n      }\n    }\n  ]\n}"
            }
          },
          "metadata": {},
          "execution_count": 57
        }
      ]
    },
    {
      "cell_type": "markdown",
      "source": [
        "**Practice task:** <nbsp>\n",
        "Print your output with the following adjustments:\n",
        "> Assign column names to the DataFrame,  **Hint**: df.columns =['Variable 1', 'Variable 2', 'Variable 3']<br>\n",
        "\n",
        "Compare and comment on the differences between the example and new output <br>\n",
        "\n",
        "Show the new code and include the comments below"
      ],
      "metadata": {
        "id": "f6EUllZBML8G"
      }
    },
    {
      "cell_type": "code",
      "source": [
        "# Practice Task here"
      ],
      "metadata": {
        "id": "hkObkwWDML8H"
      },
      "execution_count": null,
      "outputs": []
    },
    {
      "cell_type": "markdown",
      "source": [
        "# **Data Cleaning and Data Preprocessing - Pandas Series**\n",
        "\n",
        "* Explains the processes involved in preparing raw data for analysis, including cleaning data (removing or correcting inaccuracies) and preprocessing data (transforming raw data into a usable format). <br>\n"
      ],
      "metadata": {
        "id": "MhHDu_ovSWRk"
      }
    },
    {
      "cell_type": "markdown",
      "source": [
        "## <ins> Data Distillation: Extracting Uniqueness <ins>\n",
        "Demonstrates how to identify unique values and count them within a pandas Series. Useful for data exploration and understanding the diversity of data.\n"
      ],
      "metadata": {
        "id": "KGPCXnhTUDLg"
      }
    },
    {
      "cell_type": "markdown",
      "source": [
        "### <ins> How to find unique values in a series <ins>\n",
        "* Example below:"
      ],
      "metadata": {
        "id": "MPc5w8EbUDLm"
      }
    },
    {
      "cell_type": "code",
      "source": [
        "series = pd.Series([1, 2, 2, 3, 4, 4, 4])\n",
        "print(series.unique())\n",
        "print(series.nunique())"
      ],
      "metadata": {
        "colab": {
          "base_uri": "https://localhost:8080/"
        },
        "outputId": "9a90388f-7e8e-484e-8954-b652dcf397d9",
        "id": "43VrVTRKUDLm"
      },
      "execution_count": null,
      "outputs": [
        {
          "output_type": "stream",
          "name": "stdout",
          "text": [
            "[1 2 3 4]\n",
            "4\n"
          ]
        }
      ]
    },
    {
      "cell_type": "markdown",
      "source": [
        "**Practice task:** <nbsp>\n",
        "Print your output with the following adjustments::\n",
        "> Change series to [5,5,5,7,8,1,2] and find the unique and number of unique values in a sales DataFrame.\n",
        "\n",
        "Compare and comment on the differences between the example and new output\n",
        "    \n",
        "Show the new code and include the comments below"
      ],
      "metadata": {
        "id": "ciypDZ-HUDLm"
      }
    },
    {
      "cell_type": "code",
      "source": [
        "# Practice Task here"
      ],
      "metadata": {
        "id": "i04p_1VsUDLn"
      },
      "execution_count": null,
      "outputs": []
    },
    {
      "cell_type": "markdown",
      "source": [
        "## <ins> Numeric Navigation: Series to Arrays <ins>\n",
        "Shows how to convert a pandas Series into a numpy array. Necessary for integrating pandas data structures with numpy operations or machine learning algorithms.\n"
      ],
      "metadata": {
        "id": "uKrEB3-3Vh3s"
      }
    },
    {
      "cell_type": "markdown",
      "source": [
        "### <ins> How to convert a series into a numpy <ins>\n",
        "* Example below:"
      ],
      "metadata": {
        "id": "2R-B4vR0Vh3y"
      }
    },
    {
      "cell_type": "code",
      "source": [
        "import pandas as pd\n",
        "import numpy as np\n",
        "Price = pd.Series([200, 300, 450,150,890])\n",
        "numpyarray = Price.to_numpy()\n",
        "numpyarray"
      ],
      "metadata": {
        "colab": {
          "base_uri": "https://localhost:8080/"
        },
        "outputId": "5817e565-7adf-4b6e-f4bf-3011b980b9da",
        "id": "2HwIyd7zVh3y"
      },
      "execution_count": null,
      "outputs": [
        {
          "output_type": "execute_result",
          "data": {
            "text/plain": [
              "array([200, 300, 450, 150, 890])"
            ]
          },
          "metadata": {},
          "execution_count": 8
        }
      ]
    },
    {
      "cell_type": "markdown",
      "source": [
        "**Practice task:** <nbsp>\n",
        "Print your output with the following adjustments::\n",
        "> Let numpyarray = `np.array`(Price.index.values)\n",
        "\n",
        "Compare and comment on the differences between the example and new output\n",
        "    \n",
        "Show the new code and include the comments below"
      ],
      "metadata": {
        "id": "fDwakVhdVh3z"
      }
    },
    {
      "cell_type": "code",
      "source": [
        "# Practice Task here"
      ],
      "metadata": {
        "id": "dOY-9gQyVh3z"
      },
      "execution_count": null,
      "outputs": []
    },
    {
      "cell_type": "markdown",
      "source": [
        "## <ins> Value Voyage: Sorting and Organizing Data` <ins>\n",
        "Sorts a pandas Series by its values. Essential for organizing data in ascending or descending order to analyze trends or outliers.\n"
      ],
      "metadata": {
        "id": "v-k0BPlHu8Xt"
      }
    },
    {
      "cell_type": "markdown",
      "source": [
        "### <ins> How to sort a series <ins>\n",
        "* Example below:"
      ],
      "metadata": {
        "id": "O9Pt_Cx3u8Xz"
      }
    },
    {
      "cell_type": "code",
      "source": [
        "import pandas as pd\n",
        "import numpy as np\n",
        "Price = pd.Series([5, 8, 2,9,14])\n",
        "Price.sort_values()"
      ],
      "metadata": {
        "colab": {
          "base_uri": "https://localhost:8080/"
        },
        "outputId": "9d47f88d-b429-4daf-8394-680d3aecbe25",
        "id": "aQj4SXgtu8Xz"
      },
      "execution_count": null,
      "outputs": [
        {
          "output_type": "execute_result",
          "data": {
            "text/plain": [
              "2     2\n",
              "0     5\n",
              "1     8\n",
              "3     9\n",
              "4    14\n",
              "dtype: int64"
            ]
          },
          "metadata": {},
          "execution_count": 10
        }
      ]
    },
    {
      "cell_type": "markdown",
      "source": [
        "**Practice task:** <nbsp>\n",
        "Print your output with the following adjustments::\n",
        "> Set `Price`  to a series with [9,8,1,2,7] and track the index values\n",
        "\n",
        "Compare and comment on the differences between the example and new output\n",
        "    \n",
        "Show the new code and include the comments below"
      ],
      "metadata": {
        "id": "iFs-z8mzu8X0"
      }
    },
    {
      "cell_type": "code",
      "source": [
        "# Practice Task here"
      ],
      "metadata": {
        "id": "Am7Dk3_Bu8X0"
      },
      "execution_count": null,
      "outputs": []
    },
    {
      "cell_type": "markdown",
      "source": [
        "## <ins> Chaining Challenge: Maximizing Efficiency <ins>\n",
        "Combining multiple attributes and methods in a single line of code. Enhances code readability and efficiency.\n"
      ],
      "metadata": {
        "id": "OFalSQXm0pzD"
      }
    },
    {
      "cell_type": "markdown",
      "source": [
        "### <ins> How to perform an attribute and method chaining <ins>\n",
        "* Example below:\n",
        " * Attribute chaining is demonstrated by chaining attribute access with string methods to modify the breed of the dog. <br>\n",
        " * Method chaining is demonstrated by chaining the `bark()` method call with the `capitalize()` method to capitalize the output of the bark method."
      ],
      "metadata": {
        "id": "gjqwu_3d0pzJ"
      }
    },
    {
      "cell_type": "code",
      "source": [
        "class Dog:\n",
        "    def __init__(self, breed, age):\n",
        "        self.breed = breed\n",
        "        self.age = age\n",
        "\n",
        "    def bark(self):\n",
        "        return \"Woof!\"\n",
        "\n",
        "    def age_in_dog_years(self):\n",
        "        return self.age * 7\n",
        "\n",
        "# Creating an instance of the Dog class\n",
        "my_dog = Dog(\"Labrador\", 5)\n",
        "\n",
        "# Attribute chaining example (modified)\n",
        "breed_attribute_modified = my_dog.breed.lower().replace('a', 'o')  # Modified attribute chaining\n",
        "print(\"Modified breed using attribute chaining:\", breed_attribute_modified)\n",
        "\n",
        "# Method chaining example (enhanced)\n",
        "bark_method_chain_enhanced = my_dog.bark().upper().replace('O', 'X')  # Enhanced method chaining\n",
        "print(\"Modified bark method output using enhanced method chaining:\", bark_method_chain_enhanced)\n",
        "\n",
        "# Additional task: Calculate dog's age in dog years\n",
        "dog_years_age = my_dog.age_in_dog_years()\n",
        "print(\"Dog's age in dog years:\", dog_years_age)"
      ],
      "metadata": {
        "colab": {
          "base_uri": "https://localhost:8080/"
        },
        "outputId": "df4aa497-33ea-4975-c773-18a10d7d0108",
        "id": "Gi4UoWgx0pzJ"
      },
      "execution_count": null,
      "outputs": [
        {
          "output_type": "stream",
          "name": "stdout",
          "text": [
            "Modified breed using attribute chaining: lobrodor\n",
            "Modified bark method output using enhanced method chaining: WXXF!\n",
            "Dog's age in dog years: 35\n"
          ]
        }
      ]
    },
    {
      "cell_type": "markdown",
      "source": [
        "**Practice task:** <nbsp>\n",
        "Print your output with the following adjustments::\n",
        "> Change the dog's age to be 5 times the age of a person, <br>**Hint**:<br>\n",
        "def age_in_dog_years(self) <br>\n",
        "                  return self.age * 5 <br>\n",
        "\n",
        "Compare and comment on the differences between the example and new output\n",
        "    \n",
        "Show the new code and include the comments below"
      ],
      "metadata": {
        "id": "RsAO85jU0pzK"
      }
    },
    {
      "cell_type": "code",
      "source": [
        "# Practice Task here"
      ],
      "metadata": {
        "id": "ar36WQqj0pzK"
      },
      "execution_count": null,
      "outputs": []
    },
    {
      "cell_type": "markdown",
      "source": [
        "## <ins> Index Intelligence: Sorting Strategies` <ins>\n",
        "Sorts a pandas Series or DataFrame by its index. Useful for returning data to its original order or organizing it according to the index.\n"
      ],
      "metadata": {
        "id": "yqekFSg2jpgs"
      }
    },
    {
      "cell_type": "markdown",
      "source": [
        "### <ins> How to sort a data series by index <ins>\n",
        "* Example below:\n",
        " * We create a Series series with data and index provided as a dictionary.\n",
        " * The index in the original Series is unsorted ('b', 'a', 'c').\n",
        " * We use the `.sort_index()` method to sort the Series by index.\n",
        "The sorted Series sorted_series now has the index sorted in alphabetical order ('a', 'b', 'c')."
      ],
      "metadata": {
        "id": "Coaf2Nh9jpgy"
      }
    },
    {
      "cell_type": "code",
      "source": [
        "import pandas as pd\n",
        "\n",
        "# Create a Series with unsorted index\n",
        "data = {'b': 2, 'a': 1, 'c': 3}\n",
        "series = pd.Series(data)\n",
        "\n",
        "# Print the unsorted Series\n",
        "print(\"Unsorted Series:\")\n",
        "print(series)\n",
        "\n",
        "# Sort the Series by index\n",
        "sorted_series = series.sort_index()\n",
        "\n",
        "# Print the sorted Series\n",
        "print(\"\\nSorted Series:\")\n",
        "print(sorted_series)"
      ],
      "metadata": {
        "colab": {
          "base_uri": "https://localhost:8080/"
        },
        "outputId": "e8af853f-af1e-4db9-c65b-888fd04d296d",
        "id": "bFs7yQbXjpgy"
      },
      "execution_count": null,
      "outputs": [
        {
          "output_type": "stream",
          "name": "stdout",
          "text": [
            "Unsorted Series:\n",
            "b    2\n",
            "a    1\n",
            "c    3\n",
            "dtype: int64\n",
            "\n",
            "Sorted Series:\n",
            "a    1\n",
            "b    2\n",
            "c    3\n",
            "dtype: int64\n"
          ]
        }
      ]
    },
    {
      "cell_type": "markdown",
      "source": [
        "**Practice task:** <nbsp>\n",
        "Print your output with the following adjustments::\n",
        "> Change the data to be 5 types of fruits to number of fruits sold, **Hint**: 'Apple': 34, 'Orange': 60 <br>\n",
        "\n",
        "Compare and comment on the differences between the example and new output\n",
        "    \n",
        "Show the new code and include the comments below"
      ],
      "metadata": {
        "id": "fNat6k0Wjpgy"
      }
    },
    {
      "cell_type": "code",
      "source": [
        "# Practice Task here"
      ],
      "metadata": {
        "id": "Zaq8WlSUjpgy"
      },
      "execution_count": null,
      "outputs": []
    },
    {
      "cell_type": "markdown",
      "source": [
        "# **Pandas DataFrames** <br>\n",
        "* Introduce the importance of understanding pandas DataFrames and the significance of efficient data manipulation in data analysis and data science projects. <br>\n"
      ],
      "metadata": {
        "id": "1il5M4pjlOmV"
      }
    },
    {
      "cell_type": "markdown",
      "source": [
        "## <ins> Data Detective: Exploring Common Attributes <ins>\n",
        "Discuss common attributes such as `shape`, `columns`, `index`, `dtypes`, and `info()` for exploring DataFrame properties. Understanding these attributes helps in gaining insights into the structure and characteristics of the DataFrame.\n"
      ],
      "metadata": {
        "id": "RObts0_wqO9o"
      }
    },
    {
      "cell_type": "markdown",
      "source": [
        "### <ins> How to display various dataframe attributes <ins>\n",
        "* Example below:"
      ],
      "metadata": {
        "id": "0U-Z3Nt8qO9u"
      }
    },
    {
      "cell_type": "code",
      "source": [
        "import pandas as pd\n",
        "\n",
        "# Create a DataFrame\n",
        "data = {'A': [1, 2, 3], 'B': [4, 5, 6]}\n",
        "df = pd.DataFrame(data)\n",
        "\n",
        "# Display DataFrame attributes\n",
        "print(\"Shape:\", df.shape)\n",
        "print(\"Columns:\", df.columns)\n",
        "print(\"Index:\", df.index)\n",
        "print(\"Data Types:\", df.dtypes)"
      ],
      "metadata": {
        "colab": {
          "base_uri": "https://localhost:8080/"
        },
        "outputId": "b3e2a0f7-2b49-474d-8d05-cddc9b641ebd",
        "id": "W-efWQa2qO9u"
      },
      "execution_count": null,
      "outputs": [
        {
          "output_type": "stream",
          "name": "stdout",
          "text": [
            "Shape: (3, 2)\n",
            "Columns: Index(['A', 'B'], dtype='object')\n",
            "Index: RangeIndex(start=0, stop=3, step=1)\n",
            "Data Types: A    int64\n",
            "B    int64\n",
            "dtype: object\n"
          ]
        }
      ]
    },
    {
      "cell_type": "markdown",
      "source": [
        "**Practice task:** <nbsp>\n",
        "Print your output with the following adjustments::\n",
        "> Set the `data` to thress variables besides A and B, let the dataframe contain 4 values, **Hint**: 'M': [1,2,3,4] <br>\n",
        "\n",
        "Compare and comment on the differences between the example and new output\n",
        "    \n",
        "Show the new code and include the comments below"
      ],
      "metadata": {
        "id": "O7IXOBOjqO9v"
      }
    },
    {
      "cell_type": "code",
      "source": [
        "# Practice Task here"
      ],
      "metadata": {
        "id": "hipet9d_qO9v"
      },
      "execution_count": null,
      "outputs": []
    },
    {
      "cell_type": "markdown",
      "source": [
        "## <ins> Data Selection: Navigating the DataFrame Jungle <ins>\n",
        "Explore various methods for selecting data from DataFrames. Efficient data selection is crucial for extracting relevant information from large datasets.\n"
      ],
      "metadata": {
        "id": "xpiL2ADPrM0f"
      }
    },
    {
      "cell_type": "markdown",
      "source": [
        "### <ins> How to select and display specific columns from a dataframe <ins>\n",
        "* Example below:"
      ],
      "metadata": {
        "id": "FKn9lr87rM0l"
      }
    },
    {
      "cell_type": "code",
      "source": [
        "# Create a DataFrame\n",
        "data = {'A': [7, 8, 9], 'B': [12, 13, 14]}\n",
        "df = pd.DataFrame(data)\n",
        "\n",
        "# Select a single column\n",
        "column_A = df['A']\n",
        "\n",
        "# Select multiple columns\n",
        "columns_AB = df[['A', 'B']]\n",
        "print(column_A)\n",
        "print(columns_AB)"
      ],
      "metadata": {
        "colab": {
          "base_uri": "https://localhost:8080/"
        },
        "outputId": "ba4452d7-4d73-48fe-bf52-0f9cae65b0e4",
        "id": "E3sOtEqurM0l"
      },
      "execution_count": null,
      "outputs": [
        {
          "output_type": "stream",
          "name": "stdout",
          "text": [
            "0    7\n",
            "1    8\n",
            "2    9\n",
            "Name: A, dtype: int64\n",
            "   A   B\n",
            "0  7  12\n",
            "1  8  13\n",
            "2  9  14\n"
          ]
        }
      ]
    },
    {
      "cell_type": "markdown",
      "source": [
        "**Practice task:** <nbsp>\n",
        "Print your output with the following adjustments::\n",
        "> Add an additional variable `c` to the dataframe with 3 values of your choosing <br>\n",
        " > let column_BC = `df[['B','C']]` and print the output <br>\n",
        "\n",
        "Compare and comment on the differences between the example and new output\n",
        "    \n",
        "Show the new code and include the comments below"
      ],
      "metadata": {
        "id": "hHWU9aoPrM0m"
      }
    },
    {
      "cell_type": "code",
      "source": [
        "# Practice Task here"
      ],
      "metadata": {
        "id": "EFgF5ZYerM0m"
      },
      "execution_count": null,
      "outputs": []
    },
    {
      "cell_type": "markdown",
      "source": [
        "## <ins> Index Insight: Unlocking Data with `.iloc[]` <ins>\n",
        "Introduce the `iloc[]` method for integer-based indexing of rows and columns. `.iloc[]` provides a flexible way to access specific rows and columns in a DataFrame.\n"
      ],
      "metadata": {
        "id": "9fLkGptRs2Pi"
      }
    },
    {
      "cell_type": "markdown",
      "source": [
        "### <ins> How to use `iloc` indexing to selectively categorize data <ins>\n",
        "* Example below:"
      ],
      "metadata": {
        "id": "z062Nzpis2Po"
      }
    },
    {
      "cell_type": "code",
      "source": [
        "# Create a DataFrame\n",
        "data = {'Octopus': [5, 7, 9], 'Squid': [12, 24, 36]}\n",
        "\n",
        "df = pd.DataFrame(data)\n",
        "df = df.rename(index={0:'cost in 2022',1:'cost in 2023',2:'cost in 2024'})\n",
        "\n",
        "# Select a single element using integer indexing\n",
        "element = df.iloc[0, 1]\n",
        "\n",
        "# Select a row using integer indexing\n",
        "row = df.iloc[1]\n",
        "\n",
        "# Select multiple rows and columns using integer indexing\n",
        "subset = df.iloc[0:2, 1:3]\n",
        "\n",
        "print(element)\n",
        "print(row)\n",
        "print(subset)"
      ],
      "metadata": {
        "colab": {
          "base_uri": "https://localhost:8080/"
        },
        "outputId": "10bd273d-3bc9-4804-eaac-597f0221a9fd",
        "id": "W5PPcJ4Ks2Po"
      },
      "execution_count": null,
      "outputs": [
        {
          "output_type": "stream",
          "name": "stdout",
          "text": [
            "12\n",
            "Octopus     7\n",
            "Squid      24\n",
            "Name: cost in 2023, dtype: int64\n",
            "              Squid\n",
            "cost in 2022     12\n",
            "cost in 2023     24\n"
          ]
        }
      ]
    },
    {
      "cell_type": "markdown",
      "source": [
        "**Practice task:** <nbsp>\n",
        "Print your output with the following adjustments::\n",
        "> Add an additional sea creature to the dataframe and give it 3 values<br>\n",
        "\n",
        "Compare and comment on the differences between the example and new output\n",
        "    \n",
        "Show the new code and include the comments below"
      ],
      "metadata": {
        "id": "bRUhLbavs2Pp"
      }
    },
    {
      "cell_type": "code",
      "source": [
        "# Practice Task here"
      ],
      "metadata": {
        "id": "boII4v3BtcfS"
      },
      "execution_count": null,
      "outputs": []
    },
    {
      "cell_type": "markdown",
      "source": [
        "## <ins> Location, Location, Location: Leveraging `.loc[]` <ins>\n",
        "Introduce the .loc[] method for label-based indexing of rows and columns. `.loc[]` allows for selecting data based on row and column labels, providing a more intuitive approach in many cases."
      ],
      "metadata": {
        "id": "OeRNbq77wZzN"
      }
    },
    {
      "cell_type": "markdown",
      "source": [
        "### <ins> How to use `.loc()` indexing to selectively categorize data<ins>\n",
        "* Example below:"
      ],
      "metadata": {
        "id": "stRxYWybwZzT"
      }
    },
    {
      "cell_type": "code",
      "source": [
        "import pandas as pd\n",
        "\n",
        "# Create a DataFrame\n",
        "data = {'Car': [5, 7, 9], 'Motorcycle': [12, 24, 36]}\n",
        "\n",
        "# Create DataFrame and rename index\n",
        "df = pd.DataFrame(data)\n",
        "df = df.rename(index={0:'speed', 1:'mileage', 2:'fuel_capacity'})\n",
        "\n",
        "# Select a single element using label indexing\n",
        "element = df.loc['speed', 'Car']\n",
        "\n",
        "# Select a row using label indexing\n",
        "row = df.loc['mileage']\n",
        "\n",
        "# Select multiple rows and columns using label indexing\n",
        "subset = df.loc[['speed', 'mileage'], ['Car', 'Motorcycle']]\n",
        "\n",
        "print(element)\n",
        "print(row)\n",
        "print(subset)"
      ],
      "metadata": {
        "colab": {
          "base_uri": "https://localhost:8080/"
        },
        "outputId": "d441f8c9-e691-4ffe-c938-373d2149a1eb",
        "id": "StN3prsCwZzT"
      },
      "execution_count": null,
      "outputs": [
        {
          "output_type": "stream",
          "name": "stdout",
          "text": [
            "5\n",
            "Car            7\n",
            "Motorcycle    24\n",
            "Name: mileage, dtype: int64\n",
            "         Car  Motorcycle\n",
            "speed      5          12\n",
            "mileage    7          24\n"
          ]
        }
      ]
    },
    {
      "cell_type": "markdown",
      "source": [
        "**Practice task:** <nbsp>\n",
        "Print your output with the following adjustments::\n",
        "> Set `element` with 'Motorcycle' and 'mileage' <br>\n",
        "> Set `row` with 'fuel_capacity' <br>\n",
        "> Set `subset` with ['fuel_capacity','speed'] and ['Car'] only <br>\n",
        "\n",
        "Compare and comment on the differences between the example and new output\n",
        "    \n",
        "Show the new code and include the comments below"
      ],
      "metadata": {
        "id": "ZdoBLXBNwZzT"
      }
    },
    {
      "cell_type": "code",
      "source": [
        "# Practice Task here"
      ],
      "metadata": {
        "id": "vorvjQigwZzT"
      },
      "execution_count": null,
      "outputs": []
    },
    {
      "cell_type": "markdown",
      "source": [
        "## <ins> Locating Insights: Mastering `.loc[]` and `.iloc[]` <ins>\n",
        "* Provide insights and best practices on when to use .loc[] and .iloc[] for data selection.\n",
        "\n",
        "* Understanding the differences between these two methods ensures correct and efficient data access."
      ],
      "metadata": {
        "id": "9fSoF2ny0abr"
      }
    },
    {
      "cell_type": "markdown",
      "source": [
        "### <ins> Summary <ins>\n",
        "* `.iloc[]` uses integer-based indexing, while `.loc[]` uses label-based indexing.\n",
        "* `.iloc[]` is exclusive of the end index, while `.loc[]` is inclusive.\n",
        "* Use `.iloc[]` for positional indexing and `.loc[]` for label-based indexing.\n",
        "\n",
        "Also look into the course material for further context(https://learn.365datascience.com/courses/data-cleaning-preprocessing-pandas/a-few-comments-on-using-loc-and-iloc/)"
      ],
      "metadata": {
        "id": "Y0jsP9Oa0abx"
      }
    },
    {
      "cell_type": "markdown",
      "source": [
        "# **Pandas Numpy <br>**\n",
        "* NumPy and pandas are two essential libraries in the Python ecosystem for data manipulation and analysis. While NumPy provides the foundation for numerical computing with its powerful array data structure, pandas builds upon NumPy to offer high-level data structures and functions designed specifically for data analysis tasks.\n"
      ],
      "metadata": {
        "id": "S1bQgejL29Oy"
      }
    },
    {
      "cell_type": "markdown",
      "source": [
        "## <ins> NumPy Essentials: Understanding ndarrays <ins>\n",
        "NumPy arrays, also known as ndarrays, are the backbone of numerical computing in Python. They provide a powerful data structure for efficiently storing and manipulating large, multi-dimensional arrays of homogeneous data. Understanding NumPy arrays is crucial for performing advanced numerical computations and data analysis tasks in Python."
      ],
      "metadata": {
        "id": "sbnG9_q029O4"
      }
    },
    {
      "cell_type": "markdown",
      "source": [
        "### <ins> How to create a NumPy array (numpy_array) containing numerical data <ins>\n",
        "* Example below:"
      ],
      "metadata": {
        "id": "3HHAPg3829O4"
      }
    },
    {
      "cell_type": "code",
      "source": [
        "import numpy as np\n",
        "\n",
        "# Create a NumPy array\n",
        "numpy_array = np.array([[1, 2, 3], [4, 5, 6]])\n",
        "\n",
        "# Display the NumPy array\n",
        "print(\"NumPy Array:\")\n",
        "print(numpy_array)"
      ],
      "metadata": {
        "colab": {
          "base_uri": "https://localhost:8080/"
        },
        "outputId": "5c5c7eb3-679e-4ab0-8d45-6e52ced1dd34",
        "id": "4xCnAuo929O4"
      },
      "execution_count": null,
      "outputs": [
        {
          "output_type": "stream",
          "name": "stdout",
          "text": [
            "NumPy Array:\n",
            "[[1 2 3]\n",
            " [4 5 6]]\n"
          ]
        }
      ]
    },
    {
      "cell_type": "markdown",
      "source": [
        "**Practice task:** <nbsp>\n",
        "Print your output with the following adjustments::\n",
        "> Add an extra array to the `numpy_array` **Hint**: ['Octopod','Sea','Ocean'] <br>\n",
        "\n",
        "Compare and comment on the differences between the example and new output\n",
        "    \n",
        "Show the new code and include the comments below"
      ],
      "metadata": {
        "id": "c-BsFo_h29O4"
      }
    },
    {
      "cell_type": "code",
      "source": [
        "# Practice Task here"
      ],
      "metadata": {
        "id": "AboZVVqs29O5"
      },
      "execution_count": null,
      "outputs": []
    },
    {
      "cell_type": "markdown",
      "source": [
        "## <ins> From NumPy to Pandas: Creating Data Structures <ins>\n",
        "Pandas DataFrames are built on top of NumPy arrays, allowing for easy integration between the two libraries. Creating pandas DataFrames from NumPy arrays provides a convenient way to analyze and manipulate structured data. Converting NumPy arrays to pandas DataFrames enables seamless data analysis using pandas' high-level functions and methods.\n"
      ],
      "metadata": {
        "id": "JidKbhOk29O5"
      }
    },
    {
      "cell_type": "markdown",
      "source": [
        "### <ins> How to convert NumPy array to a pandas DataFrame <ins>\n",
        "* Example below:"
      ],
      "metadata": {
        "id": "qvKFoERl29O5"
      }
    },
    {
      "cell_type": "code",
      "source": [
        "import pandas as pd\n",
        "# Create a NumPy array\n",
        "numpy_array = np.array([[21, 25, 36], [103, 22, 84]])\n",
        "\n",
        "# Convert NumPy array to DataFrame\n",
        "df = pd.DataFrame(numpy_array, columns=['Kingfish', 'Barracuda', 'Sailfish'], index =[2020,2021])\n",
        "\n",
        "# Display the DataFrame\n",
        "print(\"\\nPandas DataFrame:\")\n",
        "print(df)"
      ],
      "metadata": {
        "colab": {
          "base_uri": "https://localhost:8080/"
        },
        "outputId": "2652003a-104f-4898-a7b8-e7af9d5b381e",
        "id": "g4z0idOF29O5"
      },
      "execution_count": null,
      "outputs": [
        {
          "output_type": "stream",
          "name": "stdout",
          "text": [
            "\n",
            "Pandas DataFrame:\n",
            "      Kingfish  Barracuda  Sailfish\n",
            "2020        21         25        36\n",
            "2021       103         22        84\n"
          ]
        }
      ]
    },
    {
      "cell_type": "markdown",
      "source": [
        "**Practice task:** <nbsp>\n",
        "Print your output with the following adjustments::\n",
        "> Add an additional value in each set for the `numpy_array`, **Hint**: [21, 25, 36, **41**],[103, 22, 84, **15**] <br>\n",
        "> Add 2022 to the `index`, **Hint**: [2020,2021,**2022**]<br>\n",
        "\n",
        "Compare and comment on the differences between the example and new output\n",
        "    \n",
        "Show the new code and include the comments below"
      ],
      "metadata": {
        "id": "ec1dotET29O5"
      }
    },
    {
      "cell_type": "code",
      "source": [
        "# Practice Task here"
      ],
      "metadata": {
        "id": "J_uOi6yU29O5"
      },
      "execution_count": null,
      "outputs": []
    },
    {
      "cell_type": "markdown",
      "source": [
        "## <ins>  Pandas to NumPy: Extracting Data with Ease <ins>\n",
        "While pandas offers powerful data manipulation capabilities, there are situations where working directly with NumPy arrays is necessary. Extracting NumPy arrays from pandas structures allows for integration with other libraries and advanced numerical computations. Extracting NumPy arrays from pandas structures provides flexibility and interoperability with other libraries, facilitating advanced data analysis workflows.\n"
      ],
      "metadata": {
        "id": "yLq58n9B29O5"
      }
    },
    {
      "cell_type": "markdown",
      "source": [
        "### <ins> How to extract a NumPy array from a DataFrame column <ins>\n",
        "* Example below:"
      ],
      "metadata": {
        "id": "Z98n_jjF29O5"
      }
    },
    {
      "cell_type": "code",
      "source": [
        "# Extract a NumPy array from a DataFrame column\n",
        "\n",
        "df = pd.DataFrame({'House_color': ['Yellow_house','Green_house', 'Red_house'],'Points':[45,50,33]})\n",
        "\n",
        "numpy_array_house = df['House_color'].to_numpy()\n",
        "\n",
        "# Display the extracted NumPy array\n",
        "print(\"\\nExtracted NumPy Array from DataFrame:\")\n",
        "print(numpy_array_house)"
      ],
      "metadata": {
        "colab": {
          "base_uri": "https://localhost:8080/"
        },
        "outputId": "f5989496-89c1-4f55-ea09-41b32378b529",
        "id": "LS-Yut8L29O5"
      },
      "execution_count": null,
      "outputs": [
        {
          "output_type": "stream",
          "name": "stdout",
          "text": [
            "\n",
            "Extracted NumPy Array from DataFrame:\n",
            "['Yellow_house' 'Green_house' 'Red_house']\n"
          ]
        }
      ]
    },
    {
      "cell_type": "markdown",
      "source": [
        "**Practice task:** <nbsp>\n",
        "Print your output with the following adjustments::\n",
        "> Extract the points instead of the house color, **Hints**:`df[**'Points'**] ` <br>\n",
        "> Don't forget to change the name of the numpy_array to reference the new data extracted, **Hints**: numpy_array_points\n",
        "\n",
        "Compare and comment on the differences between the example and new output\n",
        "    \n",
        "Show the new code and include the comments below"
      ],
      "metadata": {
        "id": "lDRr4e-C29O6"
      }
    },
    {
      "cell_type": "code",
      "source": [
        "# Practice Task here"
      ],
      "metadata": {
        "id": "yP9lwFql29O6"
      },
      "execution_count": null,
      "outputs": []
    },
    {
      "cell_type": "markdown",
      "source": [
        "## <ins>  NumPy Math: Perform Calculations Efficiently <ins>\n",
        "pandas leverages the efficiency and versatility of NumPy for performing numerical computations on data. Many pandas functions and methods internally use NumPy arrays for efficient computation of statistics and other operations.Leveraging NumPy for calculations in pandas ensures efficient processing of large datasets and enables the use of advanced numerical algorithms for data analysis tasks."
      ],
      "metadata": {
        "id": "rAuiaDE029O6"
      }
    },
    {
      "cell_type": "markdown",
      "source": [
        "### <ins> How to calculate the mean of a DataFrame using NumPy's mean function <ins>\n",
        "* Example below:"
      ],
      "metadata": {
        "id": "UFiIYeoP29O6"
      }
    },
    {
      "cell_type": "code",
      "source": [
        "import pandas as pd\n",
        "import numpy as np\n",
        "\n",
        "# Sample DataFrame for athletic games\n",
        "data = {\n",
        "    'Athlete': ['Richard', 'James', 'Anabel', 'Lily'],\n",
        "    '100m Sprint': [10.5, 11.2, 10.8, 10.9],\n",
        "    'Long Jump': [7.5, 6.8, 7.2, 7.0],\n",
        "    'High Jump': [2.0, 1.9, 2.1, 2.2]\n",
        "}\n",
        "\n",
        "df = pd.DataFrame(data)\n",
        "\n",
        "# Calculate mean using NumPy across specific columns (axis=1 for row-wise operation)\n",
        "df['Mean'] = np.mean(df[['100m Sprint', 'Long Jump', 'High Jump']], axis=1,)\n",
        "\n",
        "# Display the DataFrame with the mean column\n",
        "print(\"\\nDataFrame with Mean Column:\")\n",
        "print(df)\n",
        "\n"
      ],
      "metadata": {
        "colab": {
          "base_uri": "https://localhost:8080/"
        },
        "outputId": "5c9760cd-659d-4f38-bce3-bd2a84e7508e",
        "id": "RKbPI3Gm29O6"
      },
      "execution_count": null,
      "outputs": [
        {
          "output_type": "stream",
          "name": "stdout",
          "text": [
            "\n",
            "DataFrame with Mean Column:\n",
            "   Athlete  100m Sprint  Long Jump  High Jump      Mean\n",
            "0  Richard         10.5        7.5        2.0  6.666667\n",
            "1    James         11.2        6.8        1.9  6.633333\n",
            "2   Anabel         10.8        7.2        2.1  6.700000\n",
            "3     Lily         10.9        7.0        2.2  6.700000\n"
          ]
        }
      ]
    },
    {
      "cell_type": "markdown",
      "source": [
        "**Practice task:** <nbsp>\n",
        "Print your output with the following adjustments::\n",
        "> Give James a Long Jump distance of 8 and monitor the new average <br>\n",
        "\n",
        "\n",
        "Compare and comment on the differences between the example and new output\n",
        "    \n",
        "Show the new code and include the comments below"
      ],
      "metadata": {
        "id": "UHPel2jg29O6"
      }
    },
    {
      "cell_type": "code",
      "source": [
        "# Practice Task here"
      ],
      "metadata": {
        "id": "ryyBdTLK29O6"
      },
      "execution_count": null,
      "outputs": []
    },
    {
      "cell_type": "markdown",
      "source": [
        "## <ins>  NumPy Logic: Mastering Conditional Operations <ins>\n",
        "NumPy arrays can be seamlessly integrated into pandas for performing conditional logic and filtering operations. Using NumPy arrays in conditional statements within pandas allows for flexible and efficient data manipulation.Leveraging NumPy for calculations in pandas ensures efficient processing of large datasets and enables the use of advanced numerical algorithms for data analysis tasks."
      ],
      "metadata": {
        "id": "sGLcTwA5RDLt"
      }
    },
    {
      "cell_type": "markdown",
      "source": [
        "### <ins> How to demonstrate NumPy arrays with Pandas conditional logic capabilities <ins>\n",
        "* Example below:"
      ],
      "metadata": {
        "id": "3a3ZZlcSRDLt"
      }
    },
    {
      "cell_type": "code",
      "source": [
        "import pandas as pd\n",
        "\n",
        "# Sample DataFrame for athletic games\n",
        "data = {\n",
        "    'Athlete': ['Richard', 'James', 'Anabel', 'Lily'],\n",
        "    '100m Sprint': [15, 7, 20, 7],\n",
        "    'Long Jump': [9, 8, 6, 5],\n",
        "    'High Jump': [1.5, 1.6, 1.5, 2.0]\n",
        "}\n",
        "df = pd.DataFrame(data)\n",
        "\n",
        "# Filter DataFrame based on condition using NumPy array\n",
        "new_df = df[df['100m Sprint'].to_numpy() < 11]\n",
        "\n",
        "# Display the filtered DataFrame\n",
        "print(\"\\nFiltered DataFrame:\")\n",
        "print(new_df)\n"
      ],
      "metadata": {
        "colab": {
          "base_uri": "https://localhost:8080/"
        },
        "outputId": "54d7bd27-7945-4c8a-819d-05075003fa0d",
        "id": "oQ9b1zdIRDLt"
      },
      "execution_count": null,
      "outputs": [
        {
          "output_type": "stream",
          "name": "stdout",
          "text": [
            "\n",
            "Filtered DataFrame:\n",
            "  Athlete  100m Sprint  Long Jump  High Jump\n",
            "1   James            7          8        1.6\n",
            "3    Lily            7          5        2.0\n"
          ]
        }
      ]
    },
    {
      "cell_type": "markdown",
      "source": [
        "**Practice task:** <nbsp>\n",
        "Print your output with the following adjustments::\n",
        "> Change the condition to 'Long Jump' and < 7 <br>\n",
        "\n",
        "\n",
        "Compare and comment on the differences between the example and new output\n",
        "    \n",
        "Show the new code and include the comments below"
      ],
      "metadata": {
        "id": "IjLXCwGcRDLu"
      }
    },
    {
      "cell_type": "code",
      "source": [
        "# Practice Task here"
      ],
      "metadata": {
        "id": "mfZsn0_5RDLu"
      },
      "execution_count": null,
      "outputs": []
    },
    {
      "cell_type": "markdown",
      "metadata": {
        "id": "zQTWcVgqSPO4"
      },
      "source": [
        "# **Final Discord submission Challenge**"
      ]
    },
    {
      "cell_type": "markdown",
      "metadata": {
        "id": "xHb6WNfsWgG-"
      },
      "source": [
        "This challenge tests your understanding of different visualizations, derive findings or trends in data and suggest recommendation\n",
        "\n",
        "**Instructions:**\n",
        "\n",
        "- Calculations: Carefully perform the following calculations.  Do not use a calculator for the calculations themselves – focus on understanding the Python code and its logic.\n",
        "\n",
        "- Discord Submission: Explained below"
      ]
    },
    {
      "cell_type": "code",
      "execution_count": null,
      "metadata": {
        "id": "Bn4FmA-XXEcq",
        "outputId": "a3223a41-3a79-4082-8deb-1583674de053",
        "colab": {
          "base_uri": "https://localhost:8080/",
          "height": 539
        }
      },
      "outputs": [
        {
          "output_type": "display_data",
          "data": {
            "text/plain": [
              "<IPython.core.display.HTML object>"
            ],
            "text/html": [
              "\n",
              "     <input type=\"file\" id=\"files-109bff08-a1a9-439a-975e-4c5401ef2d11\" name=\"files[]\" multiple disabled\n",
              "        style=\"border:none\" />\n",
              "     <output id=\"result-109bff08-a1a9-439a-975e-4c5401ef2d11\">\n",
              "      Upload widget is only available when the cell has been executed in the\n",
              "      current browser session. Please rerun this cell to enable.\n",
              "      </output>\n",
              "      <script>// Copyright 2017 Google LLC\n",
              "//\n",
              "// Licensed under the Apache License, Version 2.0 (the \"License\");\n",
              "// you may not use this file except in compliance with the License.\n",
              "// You may obtain a copy of the License at\n",
              "//\n",
              "//      http://www.apache.org/licenses/LICENSE-2.0\n",
              "//\n",
              "// Unless required by applicable law or agreed to in writing, software\n",
              "// distributed under the License is distributed on an \"AS IS\" BASIS,\n",
              "// WITHOUT WARRANTIES OR CONDITIONS OF ANY KIND, either express or implied.\n",
              "// See the License for the specific language governing permissions and\n",
              "// limitations under the License.\n",
              "\n",
              "/**\n",
              " * @fileoverview Helpers for google.colab Python module.\n",
              " */\n",
              "(function(scope) {\n",
              "function span(text, styleAttributes = {}) {\n",
              "  const element = document.createElement('span');\n",
              "  element.textContent = text;\n",
              "  for (const key of Object.keys(styleAttributes)) {\n",
              "    element.style[key] = styleAttributes[key];\n",
              "  }\n",
              "  return element;\n",
              "}\n",
              "\n",
              "// Max number of bytes which will be uploaded at a time.\n",
              "const MAX_PAYLOAD_SIZE = 100 * 1024;\n",
              "\n",
              "function _uploadFiles(inputId, outputId) {\n",
              "  const steps = uploadFilesStep(inputId, outputId);\n",
              "  const outputElement = document.getElementById(outputId);\n",
              "  // Cache steps on the outputElement to make it available for the next call\n",
              "  // to uploadFilesContinue from Python.\n",
              "  outputElement.steps = steps;\n",
              "\n",
              "  return _uploadFilesContinue(outputId);\n",
              "}\n",
              "\n",
              "// This is roughly an async generator (not supported in the browser yet),\n",
              "// where there are multiple asynchronous steps and the Python side is going\n",
              "// to poll for completion of each step.\n",
              "// This uses a Promise to block the python side on completion of each step,\n",
              "// then passes the result of the previous step as the input to the next step.\n",
              "function _uploadFilesContinue(outputId) {\n",
              "  const outputElement = document.getElementById(outputId);\n",
              "  const steps = outputElement.steps;\n",
              "\n",
              "  const next = steps.next(outputElement.lastPromiseValue);\n",
              "  return Promise.resolve(next.value.promise).then((value) => {\n",
              "    // Cache the last promise value to make it available to the next\n",
              "    // step of the generator.\n",
              "    outputElement.lastPromiseValue = value;\n",
              "    return next.value.response;\n",
              "  });\n",
              "}\n",
              "\n",
              "/**\n",
              " * Generator function which is called between each async step of the upload\n",
              " * process.\n",
              " * @param {string} inputId Element ID of the input file picker element.\n",
              " * @param {string} outputId Element ID of the output display.\n",
              " * @return {!Iterable<!Object>} Iterable of next steps.\n",
              " */\n",
              "function* uploadFilesStep(inputId, outputId) {\n",
              "  const inputElement = document.getElementById(inputId);\n",
              "  inputElement.disabled = false;\n",
              "\n",
              "  const outputElement = document.getElementById(outputId);\n",
              "  outputElement.innerHTML = '';\n",
              "\n",
              "  const pickedPromise = new Promise((resolve) => {\n",
              "    inputElement.addEventListener('change', (e) => {\n",
              "      resolve(e.target.files);\n",
              "    });\n",
              "  });\n",
              "\n",
              "  const cancel = document.createElement('button');\n",
              "  inputElement.parentElement.appendChild(cancel);\n",
              "  cancel.textContent = 'Cancel upload';\n",
              "  const cancelPromise = new Promise((resolve) => {\n",
              "    cancel.onclick = () => {\n",
              "      resolve(null);\n",
              "    };\n",
              "  });\n",
              "\n",
              "  // Wait for the user to pick the files.\n",
              "  const files = yield {\n",
              "    promise: Promise.race([pickedPromise, cancelPromise]),\n",
              "    response: {\n",
              "      action: 'starting',\n",
              "    }\n",
              "  };\n",
              "\n",
              "  cancel.remove();\n",
              "\n",
              "  // Disable the input element since further picks are not allowed.\n",
              "  inputElement.disabled = true;\n",
              "\n",
              "  if (!files) {\n",
              "    return {\n",
              "      response: {\n",
              "        action: 'complete',\n",
              "      }\n",
              "    };\n",
              "  }\n",
              "\n",
              "  for (const file of files) {\n",
              "    const li = document.createElement('li');\n",
              "    li.append(span(file.name, {fontWeight: 'bold'}));\n",
              "    li.append(span(\n",
              "        `(${file.type || 'n/a'}) - ${file.size} bytes, ` +\n",
              "        `last modified: ${\n",
              "            file.lastModifiedDate ? file.lastModifiedDate.toLocaleDateString() :\n",
              "                                    'n/a'} - `));\n",
              "    const percent = span('0% done');\n",
              "    li.appendChild(percent);\n",
              "\n",
              "    outputElement.appendChild(li);\n",
              "\n",
              "    const fileDataPromise = new Promise((resolve) => {\n",
              "      const reader = new FileReader();\n",
              "      reader.onload = (e) => {\n",
              "        resolve(e.target.result);\n",
              "      };\n",
              "      reader.readAsArrayBuffer(file);\n",
              "    });\n",
              "    // Wait for the data to be ready.\n",
              "    let fileData = yield {\n",
              "      promise: fileDataPromise,\n",
              "      response: {\n",
              "        action: 'continue',\n",
              "      }\n",
              "    };\n",
              "\n",
              "    // Use a chunked sending to avoid message size limits. See b/62115660.\n",
              "    let position = 0;\n",
              "    do {\n",
              "      const length = Math.min(fileData.byteLength - position, MAX_PAYLOAD_SIZE);\n",
              "      const chunk = new Uint8Array(fileData, position, length);\n",
              "      position += length;\n",
              "\n",
              "      const base64 = btoa(String.fromCharCode.apply(null, chunk));\n",
              "      yield {\n",
              "        response: {\n",
              "          action: 'append',\n",
              "          file: file.name,\n",
              "          data: base64,\n",
              "        },\n",
              "      };\n",
              "\n",
              "      let percentDone = fileData.byteLength === 0 ?\n",
              "          100 :\n",
              "          Math.round((position / fileData.byteLength) * 100);\n",
              "      percent.textContent = `${percentDone}% done`;\n",
              "\n",
              "    } while (position < fileData.byteLength);\n",
              "  }\n",
              "\n",
              "  // All done.\n",
              "  yield {\n",
              "    response: {\n",
              "      action: 'complete',\n",
              "    }\n",
              "  };\n",
              "}\n",
              "\n",
              "scope.google = scope.google || {};\n",
              "scope.google.colab = scope.google.colab || {};\n",
              "scope.google.colab._files = {\n",
              "  _uploadFiles,\n",
              "  _uploadFilesContinue,\n",
              "};\n",
              "})(self);\n",
              "</script> "
            ]
          },
          "metadata": {}
        },
        {
          "output_type": "stream",
          "name": "stdout",
          "text": [
            "Saving train.csv to train (2).csv\n",
            "   Row ID        Order ID  Order Date   Ship Date       Ship Mode Customer ID  \\\n",
            "0       1  CA-2017-152156  08/11/2017  11/11/2017    Second Class    CG-12520   \n",
            "1       2  CA-2017-152156  08/11/2017  11/11/2017    Second Class    CG-12520   \n",
            "2       3  CA-2017-138688  12/06/2017  16/06/2017    Second Class    DV-13045   \n",
            "3       4  US-2016-108966  11/10/2016  18/10/2016  Standard Class    SO-20335   \n",
            "4       5  US-2016-108966  11/10/2016  18/10/2016  Standard Class    SO-20335   \n",
            "\n",
            "     Customer Name    Segment        Country             City       State  \\\n",
            "0      Claire Gute   Consumer  United States        Henderson    Kentucky   \n",
            "1      Claire Gute   Consumer  United States        Henderson    Kentucky   \n",
            "2  Darrin Van Huff  Corporate  United States      Los Angeles  California   \n",
            "3   Sean O'Donnell   Consumer  United States  Fort Lauderdale     Florida   \n",
            "4   Sean O'Donnell   Consumer  United States  Fort Lauderdale     Florida   \n",
            "\n",
            "   Postal Code Region       Product ID         Category Sub-Category  \\\n",
            "0      42420.0  South  FUR-BO-10001798        Furniture    Bookcases   \n",
            "1      42420.0  South  FUR-CH-10000454        Furniture       Chairs   \n",
            "2      90036.0   West  OFF-LA-10000240  Office Supplies       Labels   \n",
            "3      33311.0  South  FUR-TA-10000577        Furniture       Tables   \n",
            "4      33311.0  South  OFF-ST-10000760  Office Supplies      Storage   \n",
            "\n",
            "                                        Product Name     Sales  \n",
            "0                  Bush Somerset Collection Bookcase  261.9600  \n",
            "1  Hon Deluxe Fabric Upholstered Stacking Chairs,...  731.9400  \n",
            "2  Self-Adhesive Address Labels for Typewriters b...   14.6200  \n",
            "3      Bretford CR4500 Series Slim Rectangular Table  957.5775  \n",
            "4                     Eldon Fold 'N Roll Cart System   22.3680  \n"
          ]
        }
      ],
      "source": [
        "import pandas as pd\n",
        "import numpy as np\n",
        "\n",
        "# Download the file from the link and upload the file by running this code\n",
        "from google.colab import files\n",
        "uploaded = files.upload()\n",
        "\n",
        "# Loading the dataset from the Excel file\n",
        "df = pd.read_csv('train.csv')\n",
        "\n",
        "# Display the first few rows of the dataframe to verify successful loading\n",
        "print(data.head())\n",
        "\n",
        "#Download the csv file from the resource file available via the link below"
      ]
    },
    {
      "cell_type": "markdown",
      "source": [
        "[Click here to download the Train data](https://drive.google.com/file/d/1cfEp7D-3ROixvgRK5RGp45GjVTCQd8bS/view?usp=sharing)"
      ],
      "metadata": {
        "id": "CAHM-3_Iwl_Q"
      }
    },
    {
      "cell_type": "markdown",
      "metadata": {
        "id": "2PjwMKtrXSo7"
      },
      "source": [
        "### Challenges\n",
        "\n",
        "- **Challenge 1:** Create a pandas Series with the Sales data <br>\n",
        "                From the series, which year had the highest sales and what is the sales figure?\n",
        "                \n",
        "- **Challenge 2:** Set the index of the DataFrame to the Order ID <br>\n",
        "                Using Order ID as index, what is the city name at the 10th row position ?\n",
        "                \n",
        "- **Challenge 3:** Add a new column 'Discount' with linearly spaced between 0 and 0.5 <br>\n",
        "                Which order ID had the best discount?\n",
        "\n",
        "- **Challenge 4:** Filter the DataFrame to include only orders from California <br>\n",
        "                What is the date from the most recent order coming from California? Give format in dd-mm-yyyy\n",
        "\n",
        "- **Challenge 5:** Create a NumPy array with the Postal Code data <br>\n",
        "                Which postal code has the best total sales?\n",
        "\n",
        "- **Challenge 6:** Extract a NumPy array from the 'Sales' column and increase sales by 10% <br>\n",
        "                What is the year with the lowest increased sales?\n",
        "\n",
        "- **Challenge 7:** Calculate the mean sales for each Category using NumPy and add as a new column <br>\n",
        "                Using the head function, what is the category with the highest mean sales?"
      ]
    },
    {
      "cell_type": "code",
      "execution_count": null,
      "metadata": {
        "id": "I2UW0vvNQqeY"
      },
      "outputs": [],
      "source": [
        "# Print the results for each challenge\n",
        "# Example Output below:"
      ]
    },
    {
      "cell_type": "code",
      "source": [],
      "metadata": {
        "id": "bTsA9M_bwQOR"
      },
      "execution_count": null,
      "outputs": []
    },
    {
      "cell_type": "markdown",
      "metadata": {
        "id": "CSGqqk0MZNkw"
      },
      "source": [
        "**Discord Submission:** Find the corresponding Discord answer. It will have a dropdown with the following answer format:\n",
        "\n",
        "Based on the example output above, if your calculated results are:\n",
        "> Challenge 1: 2018, 22638.48<br>\n",
        "> Challenge 2: Los Angeles <br>\n",
        "> Challenge 3: CA-2016-128608<br>\n",
        "> Challenge 4: 31-12-2017<br>\n",
        "> Challenge 5: 32216.0 <br>\n",
        "> Challenge 6: 2018 <br>\n",
        "> Challenge 7: Furniture <br>\n",
        "\n",
        "Your dropdown selection on Discord should be:\n",
        "\n",
        "- 2018, 22638.48, Los Angeles, CA-2016-128608, 31-12-2017, 32216.0, 2018, Furniture"
      ]
    },
    {
      "cell_type": "markdown",
      "metadata": {
        "id": "9tbtgwVVcdDM"
      },
      "source": [
        "<img style=\"display: block; margin: 0 auto\" src=\"https://favim.com/pd/s5/orig/151229/adorable-believe-can-cute-Favim.com-3820965.jpg\" alt=\"Lonely Octopus end\">"
      ]
    },
    {
      "cell_type": "markdown",
      "source": [],
      "metadata": {
        "id": "IFsyHaFu7Pcn"
      }
    },
    {
      "cell_type": "markdown",
      "source": [
        "## <ins> Additional Notes on Using DataFrames <ins>\n",
        "Provides further insights and tips on maximizing the use of DataFrames for data analysis.\n",
        "\n",
        "### <ins>Importance<ins>\n",
        "Enhances the understanding and efficient use of DataFrames in practical scenarios.\n"
      ],
      "metadata": {
        "id": "Kpgm_EYxNk69"
      }
    },
    {
      "cell_type": "markdown",
      "source": [
        "### <ins> References <ins>\n",
        "**Pandas User Guide**: https://pandas.pydata.org/docs/user_guide/index.html#user-guide <br>\n"
      ],
      "metadata": {
        "id": "iBaCuq1qNk7D"
      }
    }
  ],
  "metadata": {
    "colab": {
      "provenance": [],
      "collapsed_sections": [
        "KglcJtdKSLCg",
        "lz9ekFzeznSQ",
        "kdt5kpUAznXi",
        "hpXaaBJEF55j",
        "MlR1gO3FK5Ml",
        "NZiQo00_4am3",
        "mcexj94X2r0Y",
        "K5DzPFwD2tVX",
        "2cDqw2sv6QiF",
        "sjQMTuQUFsBU",
        "Ghi3VvMYIHrT",
        "MhHDu_ovSWRk",
        "MPc5w8EbUDLm",
        "uKrEB3-3Vh3s",
        "v-k0BPlHu8Xt",
        "OFalSQXm0pzD",
        "yqekFSg2jpgs",
        "1il5M4pjlOmV",
        "RObts0_wqO9o",
        "xpiL2ADPrM0f",
        "9fLkGptRs2Pi",
        "OeRNbq77wZzN",
        "S1bQgejL29Oy",
        "sbnG9_q029O4",
        "JidKbhOk29O5",
        "yLq58n9B29O5",
        "rAuiaDE029O6",
        "sGLcTwA5RDLt",
        "Kpgm_EYxNk69",
        "iBaCuq1qNk7D"
      ],
      "include_colab_link": true
    },
    "kernelspec": {
      "display_name": "Python 3 (ipykernel)",
      "language": "python",
      "name": "python3"
    },
    "language_info": {
      "codemirror_mode": {
        "name": "ipython",
        "version": 3
      },
      "file_extension": ".py",
      "mimetype": "text/x-python",
      "name": "python",
      "nbconvert_exporter": "python",
      "pygments_lexer": "ipython3",
      "version": "3.11.5"
    }
  },
  "nbformat": 4,
  "nbformat_minor": 0
}